{
 "cells": [
  {
   "cell_type": "code",
   "execution_count": 1,
   "id": "8b2186ef",
   "metadata": {},
   "outputs": [],
   "source": [
    "# import libraries necessary for this project\n",
    "import os, sys, pickle,datetime\n",
    "import time\n",
    "import itertools\n",
    "import numpy as np\n",
    "import pandas as pd\n",
    "import sweetviz as sv\n",
    "import matplotlib.pyplot as plt\n",
    "import matplotlib.dates as mdates\n",
    "import seaborn as sns\n",
    "from xgboost.sklearn import XGBClassifier\n",
    "import warnings\n",
    "import datetime\n",
    "from lightgbm import LGBMClassifier\n",
    "from datetime import date\n",
    "from sklearn.tree import DecisionTreeClassifier\n",
    "from xgboost.sklearn import XGBClassifier\n",
    "from sklearn.ensemble import RandomForestClassifier,AdaBoostClassifier, GradientBoostingClassifier,VotingClassifier\n",
    "from sklearn.model_selection import KFold, train_test_split, StratifiedKFold, cross_val_score, GridSearchCV\n",
    "from sklearn.linear_model import SGDClassifier, LogisticRegression,LogisticRegressionCV,LinearRegression\n",
    "from sklearn.preprocessing import StandardScaler\n",
    "from sklearn.metrics import log_loss, roc_auc_score, auc, roc_curve,confusion_matrix, classification_report,precision_recall_curve,average_precision_score\n",
    "from sklearn.preprocessing import MinMaxScaler\n",
    "from sklearn.neighbors import KNeighborsClassifier #调用KNN分类\n",
    "# display for this notebook\n",
    "%config Completer.use_jedi = False\n",
    "warnings.filterwarnings('ignore')"
   ]
  },
  {
   "cell_type": "markdown",
   "id": "f8e7bbb8",
   "metadata": {},
   "source": [
    "# 1、读取数据"
   ]
  },
  {
   "cell_type": "code",
   "execution_count": 4,
   "id": "8bf3e773",
   "metadata": {},
   "outputs": [
    {
     "data": {
      "text/html": [
       "<div>\n",
       "<style scoped>\n",
       "    .dataframe tbody tr th:only-of-type {\n",
       "        vertical-align: middle;\n",
       "    }\n",
       "\n",
       "    .dataframe tbody tr th {\n",
       "        vertical-align: top;\n",
       "    }\n",
       "\n",
       "    .dataframe thead th {\n",
       "        text-align: right;\n",
       "    }\n",
       "</style>\n",
       "<table border=\"1\" class=\"dataframe\">\n",
       "  <thead>\n",
       "    <tr style=\"text-align: right;\">\n",
       "      <th></th>\n",
       "      <th>User_id</th>\n",
       "      <th>Merchant_id</th>\n",
       "      <th>Coupon_id</th>\n",
       "      <th>Discount_rate</th>\n",
       "      <th>Distance</th>\n",
       "      <th>Date_received</th>\n",
       "      <th>Date</th>\n",
       "    </tr>\n",
       "  </thead>\n",
       "  <tbody>\n",
       "    <tr>\n",
       "      <th>0</th>\n",
       "      <td>1439408</td>\n",
       "      <td>2632</td>\n",
       "      <td>NaN</td>\n",
       "      <td>NaN</td>\n",
       "      <td>0.0</td>\n",
       "      <td>NaN</td>\n",
       "      <td>20160217.0</td>\n",
       "    </tr>\n",
       "    <tr>\n",
       "      <th>1</th>\n",
       "      <td>1439408</td>\n",
       "      <td>4663</td>\n",
       "      <td>11002.0</td>\n",
       "      <td>150:20</td>\n",
       "      <td>1.0</td>\n",
       "      <td>20160528.0</td>\n",
       "      <td>NaN</td>\n",
       "    </tr>\n",
       "    <tr>\n",
       "      <th>2</th>\n",
       "      <td>1439408</td>\n",
       "      <td>2632</td>\n",
       "      <td>8591.0</td>\n",
       "      <td>20:1</td>\n",
       "      <td>0.0</td>\n",
       "      <td>20160217.0</td>\n",
       "      <td>NaN</td>\n",
       "    </tr>\n",
       "    <tr>\n",
       "      <th>3</th>\n",
       "      <td>1439408</td>\n",
       "      <td>2632</td>\n",
       "      <td>1078.0</td>\n",
       "      <td>20:1</td>\n",
       "      <td>0.0</td>\n",
       "      <td>20160319.0</td>\n",
       "      <td>NaN</td>\n",
       "    </tr>\n",
       "    <tr>\n",
       "      <th>4</th>\n",
       "      <td>1439408</td>\n",
       "      <td>2632</td>\n",
       "      <td>8591.0</td>\n",
       "      <td>20:1</td>\n",
       "      <td>0.0</td>\n",
       "      <td>20160613.0</td>\n",
       "      <td>NaN</td>\n",
       "    </tr>\n",
       "  </tbody>\n",
       "</table>\n",
       "</div>"
      ],
      "text/plain": [
       "   User_id  Merchant_id  Coupon_id Discount_rate  Distance  Date_received  \\\n",
       "0  1439408         2632        NaN           NaN       0.0            NaN   \n",
       "1  1439408         4663    11002.0        150:20       1.0     20160528.0   \n",
       "2  1439408         2632     8591.0          20:1       0.0     20160217.0   \n",
       "3  1439408         2632     1078.0          20:1       0.0     20160319.0   \n",
       "4  1439408         2632     8591.0          20:1       0.0     20160613.0   \n",
       "\n",
       "         Date  \n",
       "0  20160217.0  \n",
       "1         NaN  \n",
       "2         NaN  \n",
       "3         NaN  \n",
       "4         NaN  "
      ]
     },
     "execution_count": 4,
     "metadata": {},
     "output_type": "execute_result"
    }
   ],
   "source": [
    "data = pd.read_csv('ccf_offline_stage1_train.csv')\n",
    "dftest = pd.read_csv('ccf_offline_stage1_test_revised.csv')\n",
    "data.head()"
   ]
  },
  {
   "cell_type": "code",
   "execution_count": 3,
   "id": "dc403913",
   "metadata": {},
   "outputs": [
    {
     "data": {
      "text/html": [
       "<div>\n",
       "<style scoped>\n",
       "    .dataframe tbody tr th:only-of-type {\n",
       "        vertical-align: middle;\n",
       "    }\n",
       "\n",
       "    .dataframe tbody tr th {\n",
       "        vertical-align: top;\n",
       "    }\n",
       "\n",
       "    .dataframe thead th {\n",
       "        text-align: right;\n",
       "    }\n",
       "</style>\n",
       "<table border=\"1\" class=\"dataframe\">\n",
       "  <thead>\n",
       "    <tr style=\"text-align: right;\">\n",
       "      <th></th>\n",
       "      <th>User_id</th>\n",
       "      <th>Merchant_id</th>\n",
       "      <th>Coupon_id</th>\n",
       "      <th>Discount_rate</th>\n",
       "      <th>Distance</th>\n",
       "      <th>Date_received</th>\n",
       "      <th>Date</th>\n",
       "    </tr>\n",
       "  </thead>\n",
       "  <tbody>\n",
       "    <tr>\n",
       "      <th>0</th>\n",
       "      <td>1439408</td>\n",
       "      <td>2632</td>\n",
       "      <td>null</td>\n",
       "      <td>null</td>\n",
       "      <td>0</td>\n",
       "      <td>null</td>\n",
       "      <td>2.01602e+07</td>\n",
       "    </tr>\n",
       "    <tr>\n",
       "      <th>1</th>\n",
       "      <td>1439408</td>\n",
       "      <td>4663</td>\n",
       "      <td>11002</td>\n",
       "      <td>150:20</td>\n",
       "      <td>1</td>\n",
       "      <td>2.01605e+07</td>\n",
       "      <td>null</td>\n",
       "    </tr>\n",
       "    <tr>\n",
       "      <th>2</th>\n",
       "      <td>1439408</td>\n",
       "      <td>2632</td>\n",
       "      <td>8591</td>\n",
       "      <td>20:1</td>\n",
       "      <td>0</td>\n",
       "      <td>2.01602e+07</td>\n",
       "      <td>null</td>\n",
       "    </tr>\n",
       "    <tr>\n",
       "      <th>3</th>\n",
       "      <td>1439408</td>\n",
       "      <td>2632</td>\n",
       "      <td>1078</td>\n",
       "      <td>20:1</td>\n",
       "      <td>0</td>\n",
       "      <td>2.01603e+07</td>\n",
       "      <td>null</td>\n",
       "    </tr>\n",
       "    <tr>\n",
       "      <th>4</th>\n",
       "      <td>1439408</td>\n",
       "      <td>2632</td>\n",
       "      <td>8591</td>\n",
       "      <td>20:1</td>\n",
       "      <td>0</td>\n",
       "      <td>2.01606e+07</td>\n",
       "      <td>null</td>\n",
       "    </tr>\n",
       "  </tbody>\n",
       "</table>\n",
       "</div>"
      ],
      "text/plain": [
       "   User_id  Merchant_id Coupon_id Discount_rate Distance Date_received  \\\n",
       "0  1439408         2632      null          null        0          null   \n",
       "1  1439408         4663     11002        150:20        1   2.01605e+07   \n",
       "2  1439408         2632      8591          20:1        0   2.01602e+07   \n",
       "3  1439408         2632      1078          20:1        0   2.01603e+07   \n",
       "4  1439408         2632      8591          20:1        0   2.01606e+07   \n",
       "\n",
       "          Date  \n",
       "0  2.01602e+07  \n",
       "1         null  \n",
       "2         null  \n",
       "3         null  \n",
       "4         null  "
      ]
     },
     "execution_count": 3,
     "metadata": {},
     "output_type": "execute_result"
    }
   ],
   "source": [
    "data = data.fillna('null')\n",
    "dftest = dftest.fillna('null')\n",
    "data.head()"
   ]
  },
  {
   "cell_type": "code",
   "execution_count": 4,
   "id": "1345c18d",
   "metadata": {},
   "outputs": [
    {
     "name": "stdout",
     "output_type": "stream",
     "text": [
      "<class 'pandas.core.frame.DataFrame'>\n",
      "RangeIndex: 1754884 entries, 0 to 1754883\n",
      "Data columns (total 7 columns):\n",
      " #   Column         Dtype \n",
      "---  ------         ----- \n",
      " 0   User_id        int64 \n",
      " 1   Merchant_id    int64 \n",
      " 2   Coupon_id      object\n",
      " 3   Discount_rate  object\n",
      " 4   Distance       object\n",
      " 5   Date_received  object\n",
      " 6   Date           object\n",
      "dtypes: int64(2), object(5)\n",
      "memory usage: 93.7+ MB\n"
     ]
    }
   ],
   "source": [
    "data.info()"
   ]
  },
  {
   "cell_type": "code",
   "execution_count": 5,
   "id": "b555af6a",
   "metadata": {},
   "outputs": [
    {
     "data": {
      "text/html": [
       "<div>\n",
       "<style scoped>\n",
       "    .dataframe tbody tr th:only-of-type {\n",
       "        vertical-align: middle;\n",
       "    }\n",
       "\n",
       "    .dataframe tbody tr th {\n",
       "        vertical-align: top;\n",
       "    }\n",
       "\n",
       "    .dataframe thead th {\n",
       "        text-align: right;\n",
       "    }\n",
       "</style>\n",
       "<table border=\"1\" class=\"dataframe\">\n",
       "  <thead>\n",
       "    <tr style=\"text-align: right;\">\n",
       "      <th></th>\n",
       "      <th>User_id</th>\n",
       "      <th>Merchant_id</th>\n",
       "    </tr>\n",
       "  </thead>\n",
       "  <tbody>\n",
       "    <tr>\n",
       "      <th>count</th>\n",
       "      <td>1.754884e+06</td>\n",
       "      <td>1.754884e+06</td>\n",
       "    </tr>\n",
       "    <tr>\n",
       "      <th>mean</th>\n",
       "      <td>3.689255e+06</td>\n",
       "      <td>4.038808e+03</td>\n",
       "    </tr>\n",
       "    <tr>\n",
       "      <th>std</th>\n",
       "      <td>2.123428e+06</td>\n",
       "      <td>2.435963e+03</td>\n",
       "    </tr>\n",
       "    <tr>\n",
       "      <th>min</th>\n",
       "      <td>4.000000e+00</td>\n",
       "      <td>1.000000e+00</td>\n",
       "    </tr>\n",
       "    <tr>\n",
       "      <th>25%</th>\n",
       "      <td>1.845052e+06</td>\n",
       "      <td>1.983000e+03</td>\n",
       "    </tr>\n",
       "    <tr>\n",
       "      <th>50%</th>\n",
       "      <td>3.694446e+06</td>\n",
       "      <td>3.532000e+03</td>\n",
       "    </tr>\n",
       "    <tr>\n",
       "      <th>75%</th>\n",
       "      <td>5.528759e+06</td>\n",
       "      <td>6.329000e+03</td>\n",
       "    </tr>\n",
       "    <tr>\n",
       "      <th>max</th>\n",
       "      <td>7.361032e+06</td>\n",
       "      <td>8.856000e+03</td>\n",
       "    </tr>\n",
       "  </tbody>\n",
       "</table>\n",
       "</div>"
      ],
      "text/plain": [
       "            User_id   Merchant_id\n",
       "count  1.754884e+06  1.754884e+06\n",
       "mean   3.689255e+06  4.038808e+03\n",
       "std    2.123428e+06  2.435963e+03\n",
       "min    4.000000e+00  1.000000e+00\n",
       "25%    1.845052e+06  1.983000e+03\n",
       "50%    3.694446e+06  3.532000e+03\n",
       "75%    5.528759e+06  6.329000e+03\n",
       "max    7.361032e+06  8.856000e+03"
      ]
     },
     "execution_count": 5,
     "metadata": {},
     "output_type": "execute_result"
    }
   ],
   "source": [
    "data.describe()"
   ]
  },
  {
   "cell_type": "code",
   "execution_count": 6,
   "id": "90481659",
   "metadata": {},
   "outputs": [
    {
     "name": "stdout",
     "output_type": "stream",
     "text": [
      "有优惠卷，购买商品：75382\n",
      "有优惠卷，未购商品：977900\n",
      "无优惠卷，购买商品：701602\n",
      "无优惠卷，未购商品：0\n"
     ]
    }
   ],
   "source": [
    "#查看用户消费情况\n",
    "print('有优惠卷，购买商品：%d' % data[(data['Date_received'] != 'null') & (data['Date'] != 'null')].shape[0])\n",
    "print('有优惠卷，未购商品：%d' % data[(data['Date_received'] != 'null') & (data['Date'] == 'null')].shape[0])\n",
    "print('无优惠卷，购买商品：%d' % data[(data['Date_received'] == 'null') & (data['Date'] != 'null')].shape[0])\n",
    "print('无优惠卷，未购商品：%d' % data[(data['Date_received'] == 'null') & (data['Date'] == 'null')].shape[0])"
   ]
  },
  {
   "cell_type": "markdown",
   "id": "66f98cd9",
   "metadata": {},
   "source": [
    "# 2、特征提取"
   ]
  },
  {
   "cell_type": "markdown",
   "id": "e5d21c7d",
   "metadata": {},
   "source": [
    "1、打折率"
   ]
  },
  {
   "cell_type": "code",
   "execution_count": 7,
   "id": "3953788a",
   "metadata": {},
   "outputs": [
    {
     "name": "stdout",
     "output_type": "stream",
     "text": [
      "['null' '150:20' '20:1' '200:20' '30:5' '50:10' '10:5' '100:10' '200:30'\n",
      " '20:5' '30:10' '50:5' '150:10' '100:30' '200:50' '100:50' '300:30'\n",
      " '50:20' '0.9' '10:1' '30:1' '0.95' '100:5' '5:1' '100:20' '0.8' '50:1'\n",
      " '200:10' '300:20' '100:1' '150:30' '300:50' '20:10' '0.85' '0.6' '150:50'\n",
      " '0.75' '0.5' '200:5' '0.7' '30:20' '300:10' '0.2' '50:30' '200:100'\n",
      " '150:5']\n"
     ]
    }
   ],
   "source": [
    "#查看所有折扣样式\n",
    "print(data['Discount_rate'].unique())"
   ]
  },
  {
   "cell_type": "markdown",
   "id": "fad56a0d",
   "metadata": {},
   "source": [
    "可以看出打折分为3种：\n",
    "\n",
    "1、无折扣（nan）\n",
    "\n",
    "2、满多少减多少[x:y] 满x减y\n",
    "\n",
    "3、打几折（折扣率）\n",
    "\n",
    "提取 4 种特征，分别是：\n",
    "\n",
    " 打折类型：getDiscountType()\n",
    " \n",
    " 折扣率：convertRate()\n",
    " \n",
    " 满多少：getDiscountMan()\n",
    " \n",
    " 减多少：getDiscountJian()"
   ]
  },
  {
   "cell_type": "code",
   "execution_count": 8,
   "id": "cab66276",
   "metadata": {},
   "outputs": [],
   "source": [
    "#为原数据集增加新的4列特征\n",
    "\n",
    "#判断折扣类型  null为无折扣   1为满减  0为百分比折扣\n",
    "def getDiscountType(row):\n",
    "    if row == 'null':\n",
    "        return 'null'\n",
    "    elif ':' in row:\n",
    "        return 1\n",
    "    else:\n",
    "        return 0\n",
    "\n",
    "#计算提取折扣率\n",
    "def convertRate(row):\n",
    "    if row == 'null':\n",
    "        return 1.0\n",
    "    elif ':' in row:\n",
    "        rows = row.split(':')\n",
    "        return 1.0 - float(rows[1])/float(rows[0])\n",
    "    else:\n",
    "        return float(row)\n",
    "    \n",
    "#提取满减中的x\n",
    "def getDiscountMan(row):\n",
    "    if ':' in row:\n",
    "        rows = row.split(':')\n",
    "        return int(rows[0])\n",
    "    else:\n",
    "        return 0\n",
    "\n",
    "#提取满减中的y\n",
    "def getDiscountJian(row):\n",
    "    if ':' in row:\n",
    "        rows = row.split(':')\n",
    "        return int(rows[1])\n",
    "    else:\n",
    "        return 0\n",
    "    \n",
    "def processData(df):\n",
    "   # convert discount_rate\n",
    "    df['discount_type'] = df['Discount_rate'].apply(getDiscountType)\n",
    "    df['discount_rate'] = df['Discount_rate'].apply(convertRate)\n",
    "    df['discount_man'] = df['Discount_rate'].apply(getDiscountMan)\n",
    "    df['discount_jian'] = df['Discount_rate'].apply(getDiscountJian)\n",
    "\n",
    "   \n",
    "    return df"
   ]
  },
  {
   "cell_type": "code",
   "execution_count": 9,
   "id": "702633b6",
   "metadata": {
    "scrolled": false
   },
   "outputs": [],
   "source": [
    "data = processData(data)"
   ]
  },
  {
   "cell_type": "code",
   "execution_count": 10,
   "id": "057c023c",
   "metadata": {},
   "outputs": [],
   "source": [
    "dftest = processData(dftest)"
   ]
  },
  {
   "cell_type": "markdown",
   "id": "4126417c",
   "metadata": {},
   "source": [
    "2、距离"
   ]
  },
  {
   "cell_type": "code",
   "execution_count": 11,
   "id": "160ba334",
   "metadata": {},
   "outputs": [
    {
     "data": {
      "text/plain": [
       "array([0.0, 1.0, 'null', 2.0, 10.0, 4.0, 7.0, 9.0, 3.0, 5.0, 6.0, 8.0],\n",
       "      dtype=object)"
      ]
     },
     "execution_count": 11,
     "metadata": {},
     "output_type": "execute_result"
    }
   ],
   "source": [
    "#提取距离的各种值\n",
    "data['Distance'].unique()"
   ]
  },
  {
   "cell_type": "code",
   "execution_count": 12,
   "id": "b031482f",
   "metadata": {},
   "outputs": [
    {
     "data": {
      "text/plain": [
       "array([ 1., -1.,  5.,  2.,  0., 10.,  3.,  6.,  7.,  4.,  9.,  8.])"
      ]
     },
     "execution_count": 12,
     "metadata": {},
     "output_type": "execute_result"
    }
   ],
   "source": [
    "#吧Distance里面的null变为整型-1\n",
    "data['distance'] = data['Distance'].replace('null',-1).astype(float)\n",
    "data['distance'].unique()\n",
    "\n",
    "dftest['distance'] = dftest['Distance'].replace('null',-1).astype(float)\n",
    "dftest['distance'].unique()"
   ]
  },
  {
   "cell_type": "markdown",
   "id": "6c4e8058",
   "metadata": {},
   "source": [
    "3、领劵日期\n",
    "\n",
    "一般而言，周末领取优惠券去消费的可能性更大一些。因此，构建关于领券日期的一些特征：\n",
    "\n",
    " weekday : {null, 1, 2, 3, 4, 5, 6, 7}\n",
    " \n",
    " weekday_type : {1, 0}（周六和周日为1，其他为0）\n",
    " \n",
    " Weekday_1 : {1, 0, 0, 0, 0, 0, 0}\n",
    " \n",
    " Weekday_2 : {0, 1, 0, 0, 0, 0, 0}\n",
    " \n",
    " Weekday_3 : {0, 0, 1, 0, 0, 0, 0}\n",
    " \n",
    " Weekday_4 : {0, 0, 0, 1, 0, 0, 0}\n",
    " \n",
    " Weekday_5 : {0, 0, 0, 0, 1, 0, 0}\n",
    " \n",
    " Weekday_6 : {0, 0, 0, 0, 0, 1, 0}\n",
    " \n",
    " Weekday_7 : {0, 0, 0, 0, 0, 0, 1}"
   ]
  },
  {
   "cell_type": "code",
   "execution_count": 13,
   "id": "3fbff463",
   "metadata": {},
   "outputs": [],
   "source": [
    "#定义函数判断日期\n",
    "def getWeekday(row):\n",
    "    if row == 'null':\n",
    "        return row\n",
    "    else:\n",
    "        return date(int(row[0:4]), int(row[4:6]), int(row[6:8])).weekday() + 1\n",
    "\n",
    "data['weekday'] = data['Date_received'].astype(str).apply(getWeekday)\n",
    "dftest['weekday'] = dftest['Date_received'].astype(str).apply(getWeekday)\n",
    "\n",
    "# weekday_type :  周六和周日为1，其他为0\n",
    "data['weekday_type'] = data['weekday'].apply(lambda x: 1 if x in [6,7] else 0)\n",
    "dftest['weekday_type'] = dftest['weekday'].apply(lambda x: 1 if x in [6,7] else 0)\n",
    "\n",
    "# 采用独热编码\n",
    "weekdaycols = ['weekday_' + str(i) for i in range(1,8)]\n",
    "tmpdf = pd.get_dummies(data['weekday'].replace('null', np.nan))\n",
    "tmpdf.columns = weekdaycols\n",
    "data[weekdaycols] = tmpdf\n",
    "dftest[weekdaycols] = tmpdf"
   ]
  },
  {
   "cell_type": "markdown",
   "id": "ac55b442",
   "metadata": {},
   "source": [
    "4、提取用户以及优惠券特征"
   ]
  },
  {
   "cell_type": "code",
   "execution_count": 14,
   "id": "b5248daf",
   "metadata": {},
   "outputs": [
    {
     "data": {
      "text/html": [
       "<div>\n",
       "<style scoped>\n",
       "    .dataframe tbody tr th:only-of-type {\n",
       "        vertical-align: middle;\n",
       "    }\n",
       "\n",
       "    .dataframe tbody tr th {\n",
       "        vertical-align: top;\n",
       "    }\n",
       "\n",
       "    .dataframe thead th {\n",
       "        text-align: right;\n",
       "    }\n",
       "</style>\n",
       "<table border=\"1\" class=\"dataframe\">\n",
       "  <thead>\n",
       "    <tr style=\"text-align: right;\">\n",
       "      <th></th>\n",
       "      <th>User_id</th>\n",
       "      <th>Merchant_id</th>\n",
       "      <th>Coupon_id</th>\n",
       "      <th>Discount_rate</th>\n",
       "      <th>Distance</th>\n",
       "      <th>Date_received</th>\n",
       "      <th>Date</th>\n",
       "      <th>discount_type</th>\n",
       "      <th>discount_rate</th>\n",
       "      <th>discount_man</th>\n",
       "      <th>...</th>\n",
       "      <th>user5</th>\n",
       "      <th>user6</th>\n",
       "      <th>user7</th>\n",
       "      <th>user8</th>\n",
       "      <th>user9</th>\n",
       "      <th>user10</th>\n",
       "      <th>user11</th>\n",
       "      <th>user12</th>\n",
       "      <th>user13</th>\n",
       "      <th>user14</th>\n",
       "    </tr>\n",
       "  </thead>\n",
       "  <tbody>\n",
       "    <tr>\n",
       "      <th>0</th>\n",
       "      <td>1439408</td>\n",
       "      <td>2632</td>\n",
       "      <td>null</td>\n",
       "      <td>null</td>\n",
       "      <td>0</td>\n",
       "      <td>null</td>\n",
       "      <td>2.01602e+07</td>\n",
       "      <td>null</td>\n",
       "      <td>1.000000</td>\n",
       "      <td>0</td>\n",
       "      <td>...</td>\n",
       "      <td>4.0</td>\n",
       "      <td>0.0</td>\n",
       "      <td>0.0</td>\n",
       "      <td>0.0</td>\n",
       "      <td>2.0</td>\n",
       "      <td>0.0</td>\n",
       "      <td>2.0</td>\n",
       "      <td>3.0</td>\n",
       "      <td>0.0</td>\n",
       "      <td>0.0</td>\n",
       "    </tr>\n",
       "    <tr>\n",
       "      <th>1</th>\n",
       "      <td>1439408</td>\n",
       "      <td>4663</td>\n",
       "      <td>11002</td>\n",
       "      <td>150:20</td>\n",
       "      <td>1</td>\n",
       "      <td>2.01605e+07</td>\n",
       "      <td>null</td>\n",
       "      <td>1</td>\n",
       "      <td>0.866667</td>\n",
       "      <td>150</td>\n",
       "      <td>...</td>\n",
       "      <td>1.0</td>\n",
       "      <td>7730.0</td>\n",
       "      <td>17437.0</td>\n",
       "      <td>1.0</td>\n",
       "      <td>2.0</td>\n",
       "      <td>1.0</td>\n",
       "      <td>2.0</td>\n",
       "      <td>3.0</td>\n",
       "      <td>1.0</td>\n",
       "      <td>7730.0</td>\n",
       "    </tr>\n",
       "    <tr>\n",
       "      <th>2</th>\n",
       "      <td>1439408</td>\n",
       "      <td>2632</td>\n",
       "      <td>8591</td>\n",
       "      <td>20:1</td>\n",
       "      <td>0</td>\n",
       "      <td>2.01602e+07</td>\n",
       "      <td>null</td>\n",
       "      <td>1</td>\n",
       "      <td>0.950000</td>\n",
       "      <td>20</td>\n",
       "      <td>...</td>\n",
       "      <td>4.0</td>\n",
       "      <td>31.0</td>\n",
       "      <td>51705.0</td>\n",
       "      <td>1.0</td>\n",
       "      <td>2.0</td>\n",
       "      <td>3.0</td>\n",
       "      <td>2.0</td>\n",
       "      <td>3.0</td>\n",
       "      <td>4.0</td>\n",
       "      <td>31.0</td>\n",
       "    </tr>\n",
       "    <tr>\n",
       "      <th>3</th>\n",
       "      <td>1439408</td>\n",
       "      <td>2632</td>\n",
       "      <td>1078</td>\n",
       "      <td>20:1</td>\n",
       "      <td>0</td>\n",
       "      <td>2.01603e+07</td>\n",
       "      <td>null</td>\n",
       "      <td>1</td>\n",
       "      <td>0.950000</td>\n",
       "      <td>20</td>\n",
       "      <td>...</td>\n",
       "      <td>4.0</td>\n",
       "      <td>12.0</td>\n",
       "      <td>51705.0</td>\n",
       "      <td>1.0</td>\n",
       "      <td>2.0</td>\n",
       "      <td>1.0</td>\n",
       "      <td>2.0</td>\n",
       "      <td>3.0</td>\n",
       "      <td>4.0</td>\n",
       "      <td>12.0</td>\n",
       "    </tr>\n",
       "    <tr>\n",
       "      <th>4</th>\n",
       "      <td>1439408</td>\n",
       "      <td>2632</td>\n",
       "      <td>8591</td>\n",
       "      <td>20:1</td>\n",
       "      <td>0</td>\n",
       "      <td>2.01606e+07</td>\n",
       "      <td>null</td>\n",
       "      <td>1</td>\n",
       "      <td>0.950000</td>\n",
       "      <td>20</td>\n",
       "      <td>...</td>\n",
       "      <td>4.0</td>\n",
       "      <td>31.0</td>\n",
       "      <td>51705.0</td>\n",
       "      <td>1.0</td>\n",
       "      <td>2.0</td>\n",
       "      <td>3.0</td>\n",
       "      <td>2.0</td>\n",
       "      <td>3.0</td>\n",
       "      <td>4.0</td>\n",
       "      <td>31.0</td>\n",
       "    </tr>\n",
       "  </tbody>\n",
       "</table>\n",
       "<p>5 rows × 35 columns</p>\n",
       "</div>"
      ],
      "text/plain": [
       "   User_id  Merchant_id Coupon_id Discount_rate Distance Date_received  \\\n",
       "0  1439408         2632      null          null        0          null   \n",
       "1  1439408         4663     11002        150:20        1   2.01605e+07   \n",
       "2  1439408         2632      8591          20:1        0   2.01602e+07   \n",
       "3  1439408         2632      1078          20:1        0   2.01603e+07   \n",
       "4  1439408         2632      8591          20:1        0   2.01606e+07   \n",
       "\n",
       "          Date discount_type  discount_rate  discount_man  ...  user5   user6  \\\n",
       "0  2.01602e+07          null       1.000000             0  ...    4.0     0.0   \n",
       "1         null             1       0.866667           150  ...    1.0  7730.0   \n",
       "2         null             1       0.950000            20  ...    4.0    31.0   \n",
       "3         null             1       0.950000            20  ...    4.0    12.0   \n",
       "4         null             1       0.950000            20  ...    4.0    31.0   \n",
       "\n",
       "     user7  user8  user9  user10  user11  user12  user13  user14  \n",
       "0      0.0    0.0    2.0     0.0     2.0     3.0     0.0     0.0  \n",
       "1  17437.0    1.0    2.0     1.0     2.0     3.0     1.0  7730.0  \n",
       "2  51705.0    1.0    2.0     3.0     2.0     3.0     4.0    31.0  \n",
       "3  51705.0    1.0    2.0     1.0     2.0     3.0     4.0    12.0  \n",
       "4  51705.0    1.0    2.0     3.0     2.0     3.0     4.0    31.0  \n",
       "\n",
       "[5 rows x 35 columns]"
      ]
     },
     "execution_count": 14,
     "metadata": {},
     "output_type": "execute_result"
    }
   ],
   "source": [
    "# 每个user拿到coupon的数量\n",
    "user_coupon =  data[data['Date_received'].notnull()]\n",
    "user_coupon = user_coupon.groupby(['User_id']).size().reset_index(name='user1')\n",
    "data = pd.merge(data, user_coupon)\n",
    "data.user1.fillna(0, inplace=True)\n",
    "\n",
    "# 同一用户领取到同一打折类型的优惠券数量\n",
    "temp = data[data['Date_received'] != 'null']\n",
    "temp = temp.groupby(['User_id', 'Discount_rate']).size().reset_index(name='user2')\n",
    "data = pd.merge(data, temp, how='left', on=['User_id', 'Discount_rate'])\n",
    "data['user2'] = data['user2'].fillna(0)\n",
    "\n",
    "# 满减类型优惠券领取次数\n",
    "temp = data[data.Discount_rate.str.contains(':') == True]    #str.contains模糊匹配\n",
    "temp = temp.groupby('User_id').size().reset_index(name='user3')\n",
    "data = pd.merge(data, temp, how='left', on='User_id')\n",
    "data['user3'] = data['user3'].fillna(0)\n",
    "\n",
    "# # 打折类型优惠券领取次数\n",
    "temp = data[data.Discount_rate.str.contains('\\.') == True]\n",
    "temp = temp.groupby('User_id').size().reset_index(name='user4')\n",
    "data = pd.merge(data, temp, how='left', on='User_id')\n",
    "data['user4'] = data['user4'].fillna(0)\n",
    "\n",
    "#同一用户在同一商家上领取优惠券的次数\n",
    "temp = data[data['Date_received'] != 'null']\n",
    "temp = temp.groupby(['User_id', 'Merchant_id']).size().reset_index(name='user5')\n",
    "data = pd.merge(data, temp, how='left', on=['User_id', 'Merchant_id'])\n",
    "data['user5'] = data['user5'].fillna(0)\n",
    "\n",
    "#不同优惠券被领取次数\n",
    "temp = data[data['Coupon_id'] != 'null'].groupby('Coupon_id').size().reset_index(name='user6')\n",
    "temp['Coupon_id'] = temp['Coupon_id'].astype(object)\n",
    "data = pd.merge(data,temp,how='left',on='Coupon_id')\n",
    "data['user6'] = data['user6'].fillna(0)\n",
    "\n",
    "#不同打折类型优惠券被领取次数\n",
    "temp = data[data['Discount_rate'] != 'null'].groupby('Discount_rate').size().reset_index(name='user7')\n",
    "data = pd.merge(data,temp,how='left',on='Discount_rate')\n",
    "data['user7'] = data['user7'].fillna(0)\n",
    "\n",
    "# 一个用户在一天内去同一商户领取优惠券次数\n",
    "temp = data[data['Date_received'] != 'null']\n",
    "temp = temp.groupby(['User_id', 'Merchant_id', 'Date_received']).size().reset_index(name='user8')\n",
    "temp['Date_received'] = temp['Date_received'].astype(object)\n",
    "data = pd.merge(data, temp, how='left', on=['User_id', 'Merchant_id', 'Date_received'])\n",
    "data['user8'] = data['user8'].fillna(0)\n",
    "\n",
    "# 同一用户在不同商家上领取优惠券的次数\n",
    "temp = data[data['Date_received'] != 'null']\n",
    "temp = temp.groupby(['User_id', 'Merchant_id']).size()\n",
    "temp = temp.groupby('User_id').size().reset_index(name='user9')\n",
    "data = pd.merge(data, temp, how='left', on='User_id')\n",
    "data['user9'] = data['user9'].fillna(0)\n",
    "\n",
    "#同一用户领取同一优惠券的次数\n",
    "temp = data[data['Coupon_id'] != 'null'].groupby(['Coupon_id','User_id']).size().reset_index(name='user10')\n",
    "temp['Coupon_id'] = temp['Coupon_id'].astype(object)\n",
    "data = pd.merge(data,temp,how='left',on=['Coupon_id','User_id'])\n",
    "data['user10'] = data['user10'].fillna(0)\n",
    "\n",
    "# 同一用户领取到不同打折类型的优惠券数量\n",
    "temp = data[data['Date_received'] != 'null']\n",
    "temp = temp.groupby(['User_id', 'Discount_rate']).size()\n",
    "temp = temp.groupby('User_id').size().reset_index(name='user11')\n",
    "data = pd.merge(data, temp, how='left', on='User_id')\n",
    "data['user11'] = data['user11'].fillna(0)\n",
    "\n",
    "# 同一用户领取不同优惠券的次数\n",
    "temp = data[data['Coupon_id'] != 'null'].groupby(['Coupon_id','User_id']).size()\n",
    "temp = temp.groupby('User_id').size().reset_index(name='user12')\n",
    "data = pd.merge(data,temp,how='left',on='User_id')\n",
    "data['user12'] = data['user12'].fillna(0)\n",
    "\n",
    "# 同一用户领取到相同打折类型的优惠券数量\n",
    "temp = data[data['Date_received'] != 'null']\n",
    "temp = temp.groupby(['User_id', 'Discount_rate']).size().reset_index(name='user13')\n",
    "data = pd.merge(data, temp, how='left', on=['User_id', 'Discount_rate'])\n",
    "data['user13'] = data['user13'].fillna(0)\n",
    "\n",
    "#相同编号的优惠券数\n",
    "temp = data[data['Coupon_id'] != 'null']\n",
    "temp = temp.groupby('Coupon_id').size().reset_index(name='user14')\n",
    "temp['Coupon_id'] = temp['Coupon_id'].astype(object)\n",
    "data = pd.merge(data, temp, how='left', on='Coupon_id')\n",
    "data['user14'] = data['user14'].fillna(0)\n",
    "data.head()"
   ]
  },
  {
   "cell_type": "code",
   "execution_count": 15,
   "id": "a89dc840",
   "metadata": {},
   "outputs": [
    {
     "data": {
      "text/html": [
       "<div>\n",
       "<style scoped>\n",
       "    .dataframe tbody tr th:only-of-type {\n",
       "        vertical-align: middle;\n",
       "    }\n",
       "\n",
       "    .dataframe tbody tr th {\n",
       "        vertical-align: top;\n",
       "    }\n",
       "\n",
       "    .dataframe thead th {\n",
       "        text-align: right;\n",
       "    }\n",
       "</style>\n",
       "<table border=\"1\" class=\"dataframe\">\n",
       "  <thead>\n",
       "    <tr style=\"text-align: right;\">\n",
       "      <th></th>\n",
       "      <th>User_id</th>\n",
       "      <th>Merchant_id</th>\n",
       "      <th>Coupon_id</th>\n",
       "      <th>Discount_rate</th>\n",
       "      <th>Distance</th>\n",
       "      <th>Date_received</th>\n",
       "      <th>discount_type</th>\n",
       "      <th>discount_rate</th>\n",
       "      <th>discount_man</th>\n",
       "      <th>discount_jian</th>\n",
       "      <th>...</th>\n",
       "      <th>user4</th>\n",
       "      <th>user5</th>\n",
       "      <th>user6</th>\n",
       "      <th>user7</th>\n",
       "      <th>user8</th>\n",
       "      <th>user9</th>\n",
       "      <th>user10</th>\n",
       "      <th>user11</th>\n",
       "      <th>user12</th>\n",
       "      <th>user13</th>\n",
       "    </tr>\n",
       "  </thead>\n",
       "  <tbody>\n",
       "    <tr>\n",
       "      <th>0</th>\n",
       "      <td>4129537</td>\n",
       "      <td>450</td>\n",
       "      <td>9983</td>\n",
       "      <td>30:05:00</td>\n",
       "      <td>1</td>\n",
       "      <td>20160712</td>\n",
       "      <td>1</td>\n",
       "      <td>0.833333</td>\n",
       "      <td>30</td>\n",
       "      <td>5</td>\n",
       "      <td>...</td>\n",
       "      <td>0.0</td>\n",
       "      <td>1</td>\n",
       "      <td>11586</td>\n",
       "      <td>59318</td>\n",
       "      <td>1</td>\n",
       "      <td>1</td>\n",
       "      <td>1</td>\n",
       "      <td>1</td>\n",
       "      <td>1</td>\n",
       "      <td>0.0</td>\n",
       "    </tr>\n",
       "    <tr>\n",
       "      <th>1</th>\n",
       "      <td>6949378</td>\n",
       "      <td>1300</td>\n",
       "      <td>3429</td>\n",
       "      <td>30:05:00</td>\n",
       "      <td>null</td>\n",
       "      <td>20160706</td>\n",
       "      <td>1</td>\n",
       "      <td>0.833333</td>\n",
       "      <td>30</td>\n",
       "      <td>5</td>\n",
       "      <td>...</td>\n",
       "      <td>0.0</td>\n",
       "      <td>1</td>\n",
       "      <td>4887</td>\n",
       "      <td>59318</td>\n",
       "      <td>1</td>\n",
       "      <td>1</td>\n",
       "      <td>1</td>\n",
       "      <td>1</td>\n",
       "      <td>1</td>\n",
       "      <td>1.0</td>\n",
       "    </tr>\n",
       "    <tr>\n",
       "      <th>2</th>\n",
       "      <td>2166529</td>\n",
       "      <td>7113</td>\n",
       "      <td>6928</td>\n",
       "      <td>200:20:00</td>\n",
       "      <td>5</td>\n",
       "      <td>20160727</td>\n",
       "      <td>1</td>\n",
       "      <td>0.900000</td>\n",
       "      <td>200</td>\n",
       "      <td>20</td>\n",
       "      <td>...</td>\n",
       "      <td>0.0</td>\n",
       "      <td>2</td>\n",
       "      <td>205</td>\n",
       "      <td>5496</td>\n",
       "      <td>2</td>\n",
       "      <td>1</td>\n",
       "      <td>1</td>\n",
       "      <td>2</td>\n",
       "      <td>2</td>\n",
       "      <td>4.0</td>\n",
       "    </tr>\n",
       "    <tr>\n",
       "      <th>3</th>\n",
       "      <td>2166529</td>\n",
       "      <td>7113</td>\n",
       "      <td>1808</td>\n",
       "      <td>100:10:00</td>\n",
       "      <td>5</td>\n",
       "      <td>20160727</td>\n",
       "      <td>1</td>\n",
       "      <td>0.900000</td>\n",
       "      <td>100</td>\n",
       "      <td>10</td>\n",
       "      <td>...</td>\n",
       "      <td>0.0</td>\n",
       "      <td>2</td>\n",
       "      <td>205</td>\n",
       "      <td>3706</td>\n",
       "      <td>2</td>\n",
       "      <td>1</td>\n",
       "      <td>1</td>\n",
       "      <td>2</td>\n",
       "      <td>2</td>\n",
       "      <td>4.0</td>\n",
       "    </tr>\n",
       "    <tr>\n",
       "      <th>4</th>\n",
       "      <td>6172162</td>\n",
       "      <td>7605</td>\n",
       "      <td>6500</td>\n",
       "      <td>30:01:00</td>\n",
       "      <td>2</td>\n",
       "      <td>20160708</td>\n",
       "      <td>1</td>\n",
       "      <td>0.966667</td>\n",
       "      <td>30</td>\n",
       "      <td>1</td>\n",
       "      <td>...</td>\n",
       "      <td>0.0</td>\n",
       "      <td>1</td>\n",
       "      <td>132</td>\n",
       "      <td>4016</td>\n",
       "      <td>1</td>\n",
       "      <td>1</td>\n",
       "      <td>1</td>\n",
       "      <td>1</td>\n",
       "      <td>1</td>\n",
       "      <td>4.0</td>\n",
       "    </tr>\n",
       "  </tbody>\n",
       "</table>\n",
       "<p>5 rows × 33 columns</p>\n",
       "</div>"
      ],
      "text/plain": [
       "   User_id  Merchant_id Coupon_id Discount_rate Distance Date_received  \\\n",
       "0  4129537          450      9983      30:05:00        1      20160712   \n",
       "1  6949378         1300      3429      30:05:00     null      20160706   \n",
       "2  2166529         7113      6928     200:20:00        5      20160727   \n",
       "3  2166529         7113      1808     100:10:00        5      20160727   \n",
       "4  6172162         7605      6500      30:01:00        2      20160708   \n",
       "\n",
       "   discount_type  discount_rate  discount_man  discount_jian  ...  user4  \\\n",
       "0              1       0.833333            30              5  ...    0.0   \n",
       "1              1       0.833333            30              5  ...    0.0   \n",
       "2              1       0.900000           200             20  ...    0.0   \n",
       "3              1       0.900000           100             10  ...    0.0   \n",
       "4              1       0.966667            30              1  ...    0.0   \n",
       "\n",
       "   user5  user6  user7  user8  user9  user10  user11  user12  user13  \n",
       "0      1  11586  59318      1      1       1       1       1     0.0  \n",
       "1      1   4887  59318      1      1       1       1       1     1.0  \n",
       "2      2    205   5496      2      1       1       2       2     4.0  \n",
       "3      2    205   3706      2      1       1       2       2     4.0  \n",
       "4      1    132   4016      1      1       1       1       1     4.0  \n",
       "\n",
       "[5 rows x 33 columns]"
      ]
     },
     "execution_count": 15,
     "metadata": {},
     "output_type": "execute_result"
    }
   ],
   "source": [
    "#预测集\n",
    "\n",
    "#dftest同上\n",
    "user_coupon2 =  dftest[(dftest['Date_received'].notnull())]\n",
    "user_coupon2 = user_coupon2.groupby(['User_id']).size().reset_index(name='user1')\n",
    "dftest = pd.merge(dftest, user_coupon2)\n",
    "dftest.user1.fillna(0, inplace=True)\n",
    "\n",
    "# 不同优惠券领取次数\n",
    "temp = dftest[dftest.Discount_rate != 'null']\n",
    "temp = temp.groupby(['User_id', 'Discount_rate']).size().reset_index(name='user2')\n",
    "dftest = pd.merge(dftest, temp, how='left', on=['User_id', 'Discount_rate'])\n",
    "dftest['user2'] = dftest['user2'].fillna(0)\n",
    "\n",
    "# 满减类型优惠券领取次数\n",
    "temp = dftest[dftest.Discount_rate.str.contains(':') == True]    #str.contains模糊匹配\n",
    "temp = temp.groupby('User_id').size().reset_index(name='user3')\n",
    "dftest = pd.merge(dftest, temp, how='left', on='User_id')\n",
    "dftest['user3'] = dftest['user3'].fillna(0)\n",
    "\n",
    "# 打折类型优惠券领取次数\n",
    "temp = dftest[dftest.Discount_rate.str.contains('\\.') == True]\n",
    "temp = temp.groupby('User_id').size().reset_index(name='user4')\n",
    "dftest = pd.merge(dftest, temp, how='left', on='User_id')\n",
    "dftest['user4'] = dftest['user4'].fillna(0)\n",
    "\n",
    "#同一用户在同一商家上领取优惠券的次数\n",
    "temp = dftest[dftest['Date_received'] != 'null']\n",
    "temp = temp.groupby(['User_id', 'Merchant_id']).size().reset_index(name='user5')\n",
    "dftest = pd.merge(dftest, temp, how='left', on=['User_id', 'Merchant_id'])\n",
    "dftest['user5'] = dftest['user5'].fillna(0)\n",
    "\n",
    "#不同优惠券被领取次数\n",
    "temp = dftest[dftest['Coupon_id'] != 'null'].groupby('Coupon_id').size().reset_index(name='user6')\n",
    "temp['Coupon_id'] = temp['Coupon_id'].astype(object)\n",
    "dftest = pd.merge(dftest,temp,how='left',on='Coupon_id')\n",
    "dftest['user6'] = dftest['user6'].fillna(0)\n",
    "\n",
    "#不同打折类型优惠券被领取次数\n",
    "temp = dftest[dftest['Discount_rate'] != 'null'].groupby('Discount_rate').size().reset_index(name='user7')\n",
    "dftest = pd.merge(dftest,temp,how='left',on='Discount_rate')\n",
    "dftest['user7'] = dftest['user7'].fillna(0)\n",
    "\n",
    "# 一个用户在一天内去同一商户领取优惠券次数\n",
    "temp = dftest[dftest['Date_received'] != 'null']\n",
    "temp = temp.groupby(['User_id', 'Merchant_id', 'Date_received']).size().reset_index(name='user8')\n",
    "temp['Date_received'] = temp['Date_received'].astype(object)\n",
    "dftest = pd.merge(dftest, temp, how='left', on=['User_id', 'Merchant_id', 'Date_received'])\n",
    "dftest['user8'] = dftest['user8'].fillna(0)\n",
    "\n",
    "#同一用户在不同商家上领取优惠券的次数\n",
    "temp = dftest[dftest['Date_received'] != 'null']\n",
    "temp = temp.groupby(['User_id', 'Merchant_id']).size()\n",
    "temp = temp.groupby('User_id').size().reset_index(name='user9')\n",
    "dftest = pd.merge(dftest, temp, how='left', on='User_id')\n",
    "dftest['user9'] = dftest['user9'].fillna(0)\n",
    "\n",
    "#同一用户领取同一优惠券的次数\n",
    "temp = dftest[dftest['Coupon_id'] != 'null'].groupby(['Coupon_id','User_id']).size().reset_index(name='user10')\n",
    "temp['Coupon_id'] = temp['Coupon_id'].astype(object)\n",
    "dftest = pd.merge(dftest,temp,how='left',on=['Coupon_id','User_id'])\n",
    "dftest['user10'] = dftest['user10'].fillna(0)\n",
    "\n",
    "# 同一用户领取到不同打折类型的优惠券数量\n",
    "temp = dftest[dftest['Date_received'] != 'null']\n",
    "temp = temp.groupby(['User_id', 'Discount_rate']).size()\n",
    "temp = temp.groupby('User_id').size().reset_index(name='user11')\n",
    "dftest = pd.merge(dftest, temp, how='left', on='User_id')\n",
    "dftest['user11'] = dftest['user11'].fillna(0)\n",
    "\n",
    "# 同一用户领取不同优惠券的次数\n",
    "temp = dftest[dftest['Coupon_id'] != 'null'].groupby(['Coupon_id','User_id']).size()\n",
    "temp = temp.groupby('User_id').size().reset_index(name='user12')\n",
    "dftest = pd.merge(dftest,temp,how='left',on='User_id')\n",
    "dftest['user12'] = dftest['user12'].fillna(0)\n",
    "\n",
    "# 同一用户领取到同一打折类型的优惠券数量\n",
    "temp = dftest[dftest['Date_received'] != 'null']\n",
    "temp = temp.groupby(['User_id', 'Discount_rate']).size().reset_index(name='user13')\n",
    "dftest = pd.merge(dftest, temp, how='left', on=['User_id', 'Discount_rate'])\n",
    "dftest['user13'] = data['user13'].fillna(0)\n",
    "dftest.head()"
   ]
  },
  {
   "cell_type": "markdown",
   "id": "e30cea9a",
   "metadata": {},
   "source": [
    "5、对商家提取特征"
   ]
  },
  {
   "cell_type": "code",
   "execution_count": 16,
   "id": "84a933d3",
   "metadata": {},
   "outputs": [
    {
     "data": {
      "text/html": [
       "<div>\n",
       "<style scoped>\n",
       "    .dataframe tbody tr th:only-of-type {\n",
       "        vertical-align: middle;\n",
       "    }\n",
       "\n",
       "    .dataframe tbody tr th {\n",
       "        vertical-align: top;\n",
       "    }\n",
       "\n",
       "    .dataframe thead th {\n",
       "        text-align: right;\n",
       "    }\n",
       "</style>\n",
       "<table border=\"1\" class=\"dataframe\">\n",
       "  <thead>\n",
       "    <tr style=\"text-align: right;\">\n",
       "      <th></th>\n",
       "      <th>User_id</th>\n",
       "      <th>Merchant_id</th>\n",
       "      <th>Coupon_id</th>\n",
       "      <th>Discount_rate</th>\n",
       "      <th>Distance</th>\n",
       "      <th>Date_received</th>\n",
       "      <th>Date</th>\n",
       "      <th>discount_type</th>\n",
       "      <th>discount_rate</th>\n",
       "      <th>discount_man</th>\n",
       "      <th>...</th>\n",
       "      <th>user14</th>\n",
       "      <th>shop1</th>\n",
       "      <th>shop2</th>\n",
       "      <th>shop3</th>\n",
       "      <th>shop4</th>\n",
       "      <th>shop5</th>\n",
       "      <th>shop6</th>\n",
       "      <th>shop7</th>\n",
       "      <th>shop8</th>\n",
       "      <th>shop9</th>\n",
       "    </tr>\n",
       "  </thead>\n",
       "  <tbody>\n",
       "    <tr>\n",
       "      <th>0</th>\n",
       "      <td>1439408</td>\n",
       "      <td>2632</td>\n",
       "      <td>null</td>\n",
       "      <td>null</td>\n",
       "      <td>0</td>\n",
       "      <td>null</td>\n",
       "      <td>2.01602e+07</td>\n",
       "      <td>null</td>\n",
       "      <td>1.000000</td>\n",
       "      <td>0</td>\n",
       "      <td>...</td>\n",
       "      <td>0.0</td>\n",
       "      <td>43.0</td>\n",
       "      <td>60</td>\n",
       "      <td>0.0</td>\n",
       "      <td>37.0</td>\n",
       "      <td>0.0</td>\n",
       "      <td>15.0</td>\n",
       "      <td>2.0</td>\n",
       "      <td>0.0</td>\n",
       "      <td>0.0</td>\n",
       "    </tr>\n",
       "    <tr>\n",
       "      <th>1</th>\n",
       "      <td>1439408</td>\n",
       "      <td>4663</td>\n",
       "      <td>11002</td>\n",
       "      <td>150:20</td>\n",
       "      <td>1</td>\n",
       "      <td>2.01605e+07</td>\n",
       "      <td>null</td>\n",
       "      <td>1</td>\n",
       "      <td>0.866667</td>\n",
       "      <td>150</td>\n",
       "      <td>...</td>\n",
       "      <td>7730.0</td>\n",
       "      <td>15191.0</td>\n",
       "      <td>16549</td>\n",
       "      <td>7861.0</td>\n",
       "      <td>78.0</td>\n",
       "      <td>7855.0</td>\n",
       "      <td>14919.0</td>\n",
       "      <td>6.0</td>\n",
       "      <td>7730.0</td>\n",
       "      <td>15191.0</td>\n",
       "    </tr>\n",
       "    <tr>\n",
       "      <th>2</th>\n",
       "      <td>1439408</td>\n",
       "      <td>2632</td>\n",
       "      <td>8591</td>\n",
       "      <td>20:1</td>\n",
       "      <td>0</td>\n",
       "      <td>2.01602e+07</td>\n",
       "      <td>null</td>\n",
       "      <td>1</td>\n",
       "      <td>0.950000</td>\n",
       "      <td>20</td>\n",
       "      <td>...</td>\n",
       "      <td>31.0</td>\n",
       "      <td>43.0</td>\n",
       "      <td>60</td>\n",
       "      <td>1.0</td>\n",
       "      <td>37.0</td>\n",
       "      <td>1.0</td>\n",
       "      <td>15.0</td>\n",
       "      <td>2.0</td>\n",
       "      <td>31.0</td>\n",
       "      <td>43.0</td>\n",
       "    </tr>\n",
       "    <tr>\n",
       "      <th>3</th>\n",
       "      <td>1439408</td>\n",
       "      <td>2632</td>\n",
       "      <td>1078</td>\n",
       "      <td>20:1</td>\n",
       "      <td>0</td>\n",
       "      <td>2.01603e+07</td>\n",
       "      <td>null</td>\n",
       "      <td>1</td>\n",
       "      <td>0.950000</td>\n",
       "      <td>20</td>\n",
       "      <td>...</td>\n",
       "      <td>12.0</td>\n",
       "      <td>43.0</td>\n",
       "      <td>60</td>\n",
       "      <td>1.0</td>\n",
       "      <td>37.0</td>\n",
       "      <td>1.0</td>\n",
       "      <td>15.0</td>\n",
       "      <td>2.0</td>\n",
       "      <td>12.0</td>\n",
       "      <td>43.0</td>\n",
       "    </tr>\n",
       "    <tr>\n",
       "      <th>4</th>\n",
       "      <td>1439408</td>\n",
       "      <td>2632</td>\n",
       "      <td>8591</td>\n",
       "      <td>20:1</td>\n",
       "      <td>0</td>\n",
       "      <td>2.01606e+07</td>\n",
       "      <td>null</td>\n",
       "      <td>1</td>\n",
       "      <td>0.950000</td>\n",
       "      <td>20</td>\n",
       "      <td>...</td>\n",
       "      <td>31.0</td>\n",
       "      <td>43.0</td>\n",
       "      <td>60</td>\n",
       "      <td>1.0</td>\n",
       "      <td>37.0</td>\n",
       "      <td>1.0</td>\n",
       "      <td>15.0</td>\n",
       "      <td>2.0</td>\n",
       "      <td>31.0</td>\n",
       "      <td>43.0</td>\n",
       "    </tr>\n",
       "  </tbody>\n",
       "</table>\n",
       "<p>5 rows × 44 columns</p>\n",
       "</div>"
      ],
      "text/plain": [
       "   User_id Merchant_id Coupon_id Discount_rate Distance Date_received  \\\n",
       "0  1439408        2632      null          null        0          null   \n",
       "1  1439408        4663     11002        150:20        1   2.01605e+07   \n",
       "2  1439408        2632      8591          20:1        0   2.01602e+07   \n",
       "3  1439408        2632      1078          20:1        0   2.01603e+07   \n",
       "4  1439408        2632      8591          20:1        0   2.01606e+07   \n",
       "\n",
       "          Date discount_type  discount_rate  discount_man  ...  user14  \\\n",
       "0  2.01602e+07          null       1.000000             0  ...     0.0   \n",
       "1         null             1       0.866667           150  ...  7730.0   \n",
       "2         null             1       0.950000            20  ...    31.0   \n",
       "3         null             1       0.950000            20  ...    12.0   \n",
       "4         null             1       0.950000            20  ...    31.0   \n",
       "\n",
       "     shop1  shop2   shop3  shop4   shop5    shop6  shop7   shop8    shop9  \n",
       "0     43.0     60     0.0   37.0     0.0     15.0    2.0     0.0      0.0  \n",
       "1  15191.0  16549  7861.0   78.0  7855.0  14919.0    6.0  7730.0  15191.0  \n",
       "2     43.0     60     1.0   37.0     1.0     15.0    2.0    31.0     43.0  \n",
       "3     43.0     60     1.0   37.0     1.0     15.0    2.0    12.0     43.0  \n",
       "4     43.0     60     1.0   37.0     1.0     15.0    2.0    31.0     43.0  \n",
       "\n",
       "[5 rows x 44 columns]"
      ]
     },
     "execution_count": 16,
     "metadata": {},
     "output_type": "execute_result"
    }
   ],
   "source": [
    "#商家发放消费券被领取次数\n",
    "temp = data[data.Discount_rate != 'null'].groupby('Merchant_id').size().reset_index(name='shop1')\n",
    "data = pd.merge(data,temp,how='left',on='Merchant_id')\n",
    "\n",
    "#商家出现次数\n",
    "temp = data.groupby('Merchant_id').size().reset_index(name='shop2')\n",
    "data = pd.merge(data,temp,how='left',on='Merchant_id')\n",
    "\n",
    "#商家当天优惠券被领取次数\n",
    "temp = data[data.Date_received != 'null']\n",
    "temp = temp.groupby(['Merchant_id', 'Date_received']).size().reset_index(name='shop3')\n",
    "temp['Date_received'] = temp['Date_received'].astype(object)                         #temp中的Date_received类型与data不一致，改类型\n",
    "data = pd.merge(data, temp, how='left', on=['Merchant_id', 'Date_received'])\n",
    "data['shop3'] = data['shop3'].fillna(0)\n",
    "\n",
    "# #商家在不同天优惠券被领取次数\n",
    "temp = data[data.Date_received != 'null']\n",
    "temp = temp.groupby(['Merchant_id', 'Date_received']).size()\n",
    "temp = temp.groupby('Merchant_id').size().reset_index(name='shop4')\n",
    "data = pd.merge(data, temp, how='left', on='Merchant_id')\n",
    "data['shop4'] = data['shop4'].fillna(0)\n",
    "\n",
    "#商家当天优惠券被领取人数\n",
    "temp = data[data['Date_received'] != 'null']\n",
    "temp = temp.groupby(['User_id', 'Merchant_id', 'Date_received']).size()\n",
    "temp = temp.groupby(['Merchant_id', 'Date_received']).size().reset_index(name='shop5')\n",
    "temp['Date_received'] = temp['Date_received'].astype(object)\n",
    "data = pd.merge(data, temp, how='left', on=['Merchant_id', 'Date_received'])\n",
    "data['shop5'] = data['shop5'].fillna(0)\n",
    "\n",
    "# #同一商家被不同用户领取优惠券的次数\n",
    "temp = data[data['Date_received'] != 'null']\n",
    "temp = temp.groupby(['User_id', 'Merchant_id']).size()\n",
    "temp = temp.groupby('Merchant_id').size().reset_index(name='shop6')\n",
    "data = pd.merge(data, temp, how='left', on='Merchant_id')\n",
    "data['shop6'] = data['shop6'].fillna(0)\n",
    "\n",
    "#商家领取不同优惠券的数量\n",
    "temp = data[data['Date_received'] != 'null']\n",
    "temp = temp.groupby(['Merchant_id','Coupon_id']).size()\n",
    "temp = temp.groupby('Merchant_id').size().reset_index(name='shop7')\n",
    "data = pd.merge(data,temp,how='left',on='Merchant_id')\n",
    "data['shop7'] = data['shop7'].fillna(0)\n",
    "\n",
    "#商家领取相同优惠券的数量\n",
    "temp = data[data['Date_received'] != 'null']\n",
    "temp = temp.groupby(['Merchant_id','Coupon_id']).size().reset_index(name='shop8')\n",
    "temp['Merchant_id'] = temp['Merchant_id'].astype(object)\n",
    "temp['Coupon_id'] = temp['Coupon_id'].astype(object)\n",
    "data = pd.merge(data,temp,how='left',on=['Merchant_id','Coupon_id'])\n",
    "data['shop8'] = data['shop8'].fillna(0)\n",
    "\n",
    "#同一商家发放同一消费卷的次数\n",
    "temp = data[data['Discount_rate'] != 'null']\n",
    "temp = temp.groupby(['Merchant_id','Discount_rate']).size().reset_index(name='shop9')\n",
    "data = pd.merge(data,temp,how='left',on=['Merchant_id','Discount_rate'])\n",
    "data['shop9'] = data['shop9'].fillna(0)\n",
    "data.head()"
   ]
  },
  {
   "cell_type": "code",
   "execution_count": 17,
   "id": "78b7d8b5",
   "metadata": {},
   "outputs": [
    {
     "data": {
      "text/html": [
       "<div>\n",
       "<style scoped>\n",
       "    .dataframe tbody tr th:only-of-type {\n",
       "        vertical-align: middle;\n",
       "    }\n",
       "\n",
       "    .dataframe tbody tr th {\n",
       "        vertical-align: top;\n",
       "    }\n",
       "\n",
       "    .dataframe thead th {\n",
       "        text-align: right;\n",
       "    }\n",
       "</style>\n",
       "<table border=\"1\" class=\"dataframe\">\n",
       "  <thead>\n",
       "    <tr style=\"text-align: right;\">\n",
       "      <th></th>\n",
       "      <th>User_id</th>\n",
       "      <th>Merchant_id</th>\n",
       "      <th>Coupon_id</th>\n",
       "      <th>Discount_rate</th>\n",
       "      <th>Distance</th>\n",
       "      <th>Date_received</th>\n",
       "      <th>discount_type</th>\n",
       "      <th>discount_rate</th>\n",
       "      <th>discount_man</th>\n",
       "      <th>discount_jian</th>\n",
       "      <th>...</th>\n",
       "      <th>user13</th>\n",
       "      <th>shop1</th>\n",
       "      <th>shop2</th>\n",
       "      <th>shop3</th>\n",
       "      <th>shop4</th>\n",
       "      <th>shop5</th>\n",
       "      <th>shop6</th>\n",
       "      <th>shop7</th>\n",
       "      <th>shop8</th>\n",
       "      <th>shop9</th>\n",
       "    </tr>\n",
       "  </thead>\n",
       "  <tbody>\n",
       "    <tr>\n",
       "      <th>0</th>\n",
       "      <td>4129537</td>\n",
       "      <td>450</td>\n",
       "      <td>9983</td>\n",
       "      <td>30:05:00</td>\n",
       "      <td>1</td>\n",
       "      <td>20160712</td>\n",
       "      <td>1</td>\n",
       "      <td>0.833333</td>\n",
       "      <td>30</td>\n",
       "      <td>5</td>\n",
       "      <td>...</td>\n",
       "      <td>0.0</td>\n",
       "      <td>12042</td>\n",
       "      <td>12042</td>\n",
       "      <td>573</td>\n",
       "      <td>31</td>\n",
       "      <td>570</td>\n",
       "      <td>11837</td>\n",
       "      <td>8</td>\n",
       "      <td>11586</td>\n",
       "      <td>11622</td>\n",
       "    </tr>\n",
       "    <tr>\n",
       "      <th>1</th>\n",
       "      <td>6949378</td>\n",
       "      <td>1300</td>\n",
       "      <td>3429</td>\n",
       "      <td>30:05:00</td>\n",
       "      <td>null</td>\n",
       "      <td>20160706</td>\n",
       "      <td>1</td>\n",
       "      <td>0.833333</td>\n",
       "      <td>30</td>\n",
       "      <td>5</td>\n",
       "      <td>...</td>\n",
       "      <td>1.0</td>\n",
       "      <td>4975</td>\n",
       "      <td>4975</td>\n",
       "      <td>461</td>\n",
       "      <td>31</td>\n",
       "      <td>461</td>\n",
       "      <td>4944</td>\n",
       "      <td>2</td>\n",
       "      <td>4887</td>\n",
       "      <td>4975</td>\n",
       "    </tr>\n",
       "    <tr>\n",
       "      <th>2</th>\n",
       "      <td>2166529</td>\n",
       "      <td>7113</td>\n",
       "      <td>6928</td>\n",
       "      <td>200:20:00</td>\n",
       "      <td>5</td>\n",
       "      <td>20160727</td>\n",
       "      <td>1</td>\n",
       "      <td>0.900000</td>\n",
       "      <td>200</td>\n",
       "      <td>20</td>\n",
       "      <td>...</td>\n",
       "      <td>4.0</td>\n",
       "      <td>410</td>\n",
       "      <td>410</td>\n",
       "      <td>12</td>\n",
       "      <td>31</td>\n",
       "      <td>6</td>\n",
       "      <td>205</td>\n",
       "      <td>2</td>\n",
       "      <td>205</td>\n",
       "      <td>205</td>\n",
       "    </tr>\n",
       "    <tr>\n",
       "      <th>3</th>\n",
       "      <td>2166529</td>\n",
       "      <td>7113</td>\n",
       "      <td>1808</td>\n",
       "      <td>100:10:00</td>\n",
       "      <td>5</td>\n",
       "      <td>20160727</td>\n",
       "      <td>1</td>\n",
       "      <td>0.900000</td>\n",
       "      <td>100</td>\n",
       "      <td>10</td>\n",
       "      <td>...</td>\n",
       "      <td>4.0</td>\n",
       "      <td>410</td>\n",
       "      <td>410</td>\n",
       "      <td>12</td>\n",
       "      <td>31</td>\n",
       "      <td>6</td>\n",
       "      <td>205</td>\n",
       "      <td>2</td>\n",
       "      <td>205</td>\n",
       "      <td>205</td>\n",
       "    </tr>\n",
       "    <tr>\n",
       "      <th>4</th>\n",
       "      <td>6172162</td>\n",
       "      <td>7605</td>\n",
       "      <td>6500</td>\n",
       "      <td>30:01:00</td>\n",
       "      <td>2</td>\n",
       "      <td>20160708</td>\n",
       "      <td>1</td>\n",
       "      <td>0.966667</td>\n",
       "      <td>30</td>\n",
       "      <td>1</td>\n",
       "      <td>...</td>\n",
       "      <td>4.0</td>\n",
       "      <td>132</td>\n",
       "      <td>132</td>\n",
       "      <td>15</td>\n",
       "      <td>10</td>\n",
       "      <td>15</td>\n",
       "      <td>100</td>\n",
       "      <td>1</td>\n",
       "      <td>132</td>\n",
       "      <td>132</td>\n",
       "    </tr>\n",
       "  </tbody>\n",
       "</table>\n",
       "<p>5 rows × 42 columns</p>\n",
       "</div>"
      ],
      "text/plain": [
       "   User_id Merchant_id Coupon_id Discount_rate Distance Date_received  \\\n",
       "0  4129537         450      9983      30:05:00        1      20160712   \n",
       "1  6949378        1300      3429      30:05:00     null      20160706   \n",
       "2  2166529        7113      6928     200:20:00        5      20160727   \n",
       "3  2166529        7113      1808     100:10:00        5      20160727   \n",
       "4  6172162        7605      6500      30:01:00        2      20160708   \n",
       "\n",
       "   discount_type  discount_rate  discount_man  discount_jian  ...  user13  \\\n",
       "0              1       0.833333            30              5  ...     0.0   \n",
       "1              1       0.833333            30              5  ...     1.0   \n",
       "2              1       0.900000           200             20  ...     4.0   \n",
       "3              1       0.900000           100             10  ...     4.0   \n",
       "4              1       0.966667            30              1  ...     4.0   \n",
       "\n",
       "   shop1  shop2  shop3  shop4  shop5  shop6  shop7  shop8  shop9  \n",
       "0  12042  12042    573     31    570  11837      8  11586  11622  \n",
       "1   4975   4975    461     31    461   4944      2   4887   4975  \n",
       "2    410    410     12     31      6    205      2    205    205  \n",
       "3    410    410     12     31      6    205      2    205    205  \n",
       "4    132    132     15     10     15    100      1    132    132  \n",
       "\n",
       "[5 rows x 42 columns]"
      ]
     },
     "execution_count": 17,
     "metadata": {},
     "output_type": "execute_result"
    }
   ],
   "source": [
    "#预测集\n",
    "#商家发放消费券被领取次数\n",
    "temp = dftest[dftest.Discount_rate != 'null'].groupby('Merchant_id').size().reset_index(name='shop1')\n",
    "dftest = pd.merge(dftest,temp,how='left',on='Merchant_id')\n",
    "\n",
    "#商家出现次数\n",
    "temp = dftest.groupby('Merchant_id').size().reset_index(name='shop2')\n",
    "dftest = pd.merge(dftest,temp,how='left',on='Merchant_id')\n",
    "\n",
    "#商家当天被领取优惠券的数量\n",
    "temp = dftest[dftest.Date_received != 'null']\n",
    "temp = temp.groupby(['Merchant_id', 'Date_received']).size().reset_index(name='shop3')\n",
    "temp['Date_received'] = temp['Date_received'].astype(object)                         #temp中的Date_received类型与data不一致，改类型\n",
    "dftest = pd.merge(dftest, temp, how='left', on=['Merchant_id', 'Date_received'])\n",
    "dftest['shop3'] = dftest['shop3'].fillna(0)\n",
    "\n",
    "#商家在不同天优惠券被领取次数\n",
    "temp = dftest[dftest.Date_received != 'null']\n",
    "temp = temp.groupby(['Merchant_id', 'Date_received']).size()\n",
    "temp = temp.groupby('Merchant_id').size().reset_index(name='shop4')\n",
    "dftest = pd.merge(dftest, temp, how='left', on='Merchant_id')\n",
    "dftest['shop4'] = dftest['shop4'].fillna(0)\n",
    "\n",
    "#商家当天优惠券被领取人数\n",
    "temp = dftest[dftest['Date_received'] != 'null']\n",
    "temp = temp.groupby(['User_id', 'Merchant_id', 'Date_received']).size()\n",
    "temp = temp.groupby(['Merchant_id', 'Date_received']).size().reset_index(name='shop5')\n",
    "dftest = pd.merge(dftest, temp, how='left', on=['Merchant_id', 'Date_received'])\n",
    "dftest['shop5'] = dftest['shop5'].fillna(0)\n",
    "\n",
    "#同一商家被不同用户领取优惠券的次数\n",
    "temp = dftest[dftest['Date_received'] != 'null']\n",
    "temp = temp.groupby(['User_id', 'Merchant_id']).size()\n",
    "temp = temp.groupby('Merchant_id').size().reset_index(name='shop6')\n",
    "dftest = pd.merge(dftest, temp, how='left', on='Merchant_id')\n",
    "dftest['shop6'] = dftest['shop6'].fillna(0)\n",
    "\n",
    "#商家领取不同优惠券的数量\n",
    "temp = dftest[dftest['Date_received'] != 'null']\n",
    "temp = temp.groupby(['Merchant_id','Coupon_id']).size()\n",
    "temp = temp.groupby('Merchant_id').size().reset_index(name='shop7')\n",
    "dftest = pd.merge(dftest,temp,how='left',on='Merchant_id')\n",
    "dftest['shop7'] = dftest['shop7'].fillna(0)\n",
    "\n",
    "#商家领取相同优惠券的数量\n",
    "temp = dftest[dftest['Date_received'] != 'null']\n",
    "temp = temp.groupby(['Merchant_id','Coupon_id']).size().reset_index(name='shop8')\n",
    "temp['Merchant_id'] = temp['Merchant_id'].astype(object)\n",
    "temp['Coupon_id'] = temp['Coupon_id'].astype(object)\n",
    "dftest = pd.merge(dftest,temp,how='left',on=['Merchant_id','Coupon_id'])\n",
    "dftest['shop8'] = dftest['shop8'].fillna(0)\n",
    "\n",
    "#同一商家发放同一消费卷的次数\n",
    "temp = dftest[dftest['Discount_rate'] != 'null']\n",
    "temp = temp.groupby(['Merchant_id','Discount_rate']).size().reset_index(name='shop9')\n",
    "dftest = pd.merge(dftest,temp,how='left',on=['Merchant_id','Discount_rate'])\n",
    "dftest['shop9'] = dftest['shop9'].fillna(0)\n",
    "\n",
    "dftest.head()"
   ]
  },
  {
   "cell_type": "markdown",
   "id": "cdb11ebc",
   "metadata": {},
   "source": [
    "# 3、标注标签"
   ]
  },
  {
   "cell_type": "markdown",
   "id": "73f4f02d",
   "metadata": {},
   "source": [
    "对训练样本进行 label 标注，即确定哪些是正样本（y = 1），哪些是负样本（y = 0）\n",
    "\n",
    "1.Date_received == ‘null’：\n",
    "\n",
    "表示没有领到优惠券，无需考虑，y = -1\n",
    "\n",
    "2.(Date_received != ‘null’) & (Date != ‘null’) & (Date - Date_received <= 15)：\n",
    "\n",
    "表示领取优惠券且在15天内使用，即正样本，y = 1\n",
    "\n",
    "3.(Date_received != ‘null’) & ((Date == ‘null’) | (Date - Date_received > 15))：\n",
    "\n",
    "表示领取优惠券未在在15天内使用，即负样本，y = 0"
   ]
  },
  {
   "cell_type": "code",
   "execution_count": 18,
   "id": "c6d212a9",
   "metadata": {},
   "outputs": [
    {
     "name": "stdout",
     "output_type": "stream",
     "text": [
      " 0    988887\n",
      "-1    701602\n",
      " 1     64395\n",
      "Name: label, dtype: int64\n"
     ]
    }
   ],
   "source": [
    "# 定义标签备注函数\n",
    "def label(row):\n",
    "    if row['Date_received'] == 'null':\n",
    "        return -1\n",
    "    if row['Date'] != 'null':\n",
    "        td = pd.to_datetime(row['Date'], format='%Y%m%d') - pd.to_datetime(row['Date_received'], format='%Y%m%d')\n",
    "        if td <= pd.Timedelta(15, 'D'):\n",
    "            return 1\n",
    "    return 0\n",
    "\n",
    "data['label'] = data.apply(label, axis=1)\n",
    "print(data['label'].value_counts())"
   ]
  },
  {
   "cell_type": "markdown",
   "id": "aacaf679",
   "metadata": {},
   "source": [
    "# 4、数据可视化"
   ]
  },
  {
   "cell_type": "code",
   "execution_count": 19,
   "id": "d881191c",
   "metadata": {},
   "outputs": [],
   "source": [
    "plt.rcParams['font.sans-serif']=['SimHei']\n",
    "plt.rcParams['axes.unicode_minus']=False"
   ]
  },
  {
   "cell_type": "markdown",
   "id": "1ec9fc99",
   "metadata": {},
   "source": [
    "从下图可知人数偏差较大，最后模型需要设置权重"
   ]
  },
  {
   "cell_type": "code",
   "execution_count": 20,
   "id": "f4abac36",
   "metadata": {},
   "outputs": [
    {
     "data": {
      "image/png": "[encoded data removed]",
      "text/plain": [
       "<Figure size 720x432 with 1 Axes>"
      ]
     },
     "metadata": {
      "needs_background": "light"
     },
     "output_type": "display_data"
    }
   ],
   "source": [
    "#直方图  结果分布\n",
    "fig=plt.figure(figsize=(10,6))\n",
    "sns.countplot(x=data['label'])\n",
    "count_classes = data['label'].value_counts().sort_index()\n",
    "count_classes.index=[0,1,2]\n",
    "for x,y in zip(count_classes.index,count_classes.values):#设置在柱子上显示文字注释\n",
    "    plt.text(x,y, '%.f'%y,ha=\"center\", va=\"bottom\",size=14)\n",
    "plt.xlabel('使用优惠券情况',labelpad=20)\n",
    "plt.ylabel('使用占比')\n",
    "plt.title('是否使用优惠券人数占比',fontsize=20,color='blue')\n",
    "plt.xticks([0,1,2],['未领取优惠券','领取但未使用','领取并使用'])\n",
    "plt.show()"
   ]
  },
  {
   "cell_type": "code",
   "execution_count": 21,
   "id": "8697c639",
   "metadata": {},
   "outputs": [
    {
     "data": {
      "image/png": "[encoded data removed]",
      "text/plain": [
       "<Figure size 360x360 with 1 Axes>"
      ]
     },
     "metadata": {
      "needs_background": "light"
     },
     "output_type": "display_data"
    }
   ],
   "source": [
    "#用户住房距离商店的距离\n",
    "sns.displot(data['distance'].values,bins=30)\n",
    "plt.xlabel('离商店的距离',fontsize=12)\n",
    "plt.show()"
   ]
  },
  {
   "cell_type": "code",
   "execution_count": 22,
   "id": "c497cb58",
   "metadata": {},
   "outputs": [
    {
     "data": {
      "image/png": "[encoded data removed]",
      "text/plain": [
       "<Figure size 720x432 with 1 Axes>"
      ]
     },
     "metadata": {
      "needs_background": "light"
     },
     "output_type": "display_data"
    }
   ],
   "source": [
    "fig=plt.figure(figsize=(10,6))\n",
    "sns.countplot(x=data['weekday_type'].values)\n",
    "plt.xticks([0,1],['非周末使用优惠券','周末使用优惠券'])\n",
    "count_classes = data['weekday_type'].value_counts().sort_index()\n",
    "for x,y in zip(count_classes.index,count_classes.values):#设置在柱子上显示文字注释\n",
    "    plt.text(x,y,'%.f'%y,ha=\"center\", va=\"bottom\",size=14)\n",
    "plt.show()"
   ]
  },
  {
   "cell_type": "code",
   "execution_count": 23,
   "id": "a3d08e62",
   "metadata": {},
   "outputs": [
    {
     "data": {
      "image/png": "[encoded data removed]",
      "text/plain": [
       "<Figure size 432x288 with 1 Axes>"
      ]
     },
     "metadata": {
      "needs_background": "light"
     },
     "output_type": "display_data"
    }
   ],
   "source": [
    "#周一到周日使用优惠券数量变化图\n",
    "a = data[data['weekday_1']==1]['weekday_1'].count()\n",
    "b = data[data['weekday_2']==1]['weekday_2'].count()\n",
    "c = data[data['weekday_3']==1]['weekday_3'].count()\n",
    "d = data[data['weekday_4']==1]['weekday_4'].count()\n",
    "e = data[data['weekday_5']==1]['weekday_5'].count()\n",
    "f = data[data['weekday_6']==1]['weekday_6'].count()\n",
    "g = data[data['weekday_7']==1]['weekday_7'].count()\n",
    "all = [a,b,c,d,e,f,g]\n",
    "plt.xticks([0,1,2,3,4,5,6],['周一','周二','周三','周四','周五','周六','周日'])\n",
    "plt.plot(all)\n",
    "plt.grid()\n",
    "plt.show()"
   ]
  },
  {
   "cell_type": "code",
   "execution_count": 24,
   "id": "6de749b8",
   "metadata": {},
   "outputs": [
    {
     "data": {
      "image/png": "[encoded data removed]",
      "text/plain": [
       "<Figure size 720x576 with 1 Axes>"
      ]
     },
     "metadata": {
      "needs_background": "light"
     },
     "output_type": "display_data"
    }
   ],
   "source": [
    "#顾客领取优惠券的数量\n",
    "fig = plt.figure(figsize=(10,8))\n",
    "plt.scatter(data['User_id'],data['user1'].values,c='orange')\n",
    "plt.show()"
   ]
  },
  {
   "cell_type": "code",
   "execution_count": 25,
   "id": "80a726a0",
   "metadata": {},
   "outputs": [
    {
     "data": {
      "text/plain": [
       "5054119    264\n",
       "2751537    155\n",
       "2949273    137\n",
       "6655171    136\n",
       "4840568    134\n",
       "          ... \n",
       "5656800      1\n",
       "3561697      1\n",
       "1446120      1\n",
       "1452271      1\n",
       "8196         1\n",
       "Name: User_id, Length: 539438, dtype: int64"
      ]
     },
     "execution_count": 25,
     "metadata": {},
     "output_type": "execute_result"
    }
   ],
   "source": [
    "data['User_id'].value_counts()"
   ]
  },
  {
   "cell_type": "code",
   "execution_count": 26,
   "id": "df556e2d",
   "metadata": {},
   "outputs": [],
   "source": [
    "#收到优惠券和使用优惠券的比例\n",
    "date_received = data['Date_received'].unique()\n",
    "date_received = sorted(date_received[date_received != 'null'])\n",
    "\n",
    "date_buy = data['Date'].unique()\n",
    "date_buy = sorted(date_buy[date_buy != 'null'])\n",
    "couponbydate = data[data['Date_received'] != 'null'][['Date_received', 'Date']].groupby(['Date_received'], as_index=False).count()\n",
    "couponbydate.columns = ['Date_received','count']\n",
    "buybydate = data[(data['Date'] != 'null') & (data['Date_received'] != 'null')][['Date_received', 'Date']].groupby(['Date_received'], as_index=False).count()\n",
    "buybydate.columns = ['Date_received','count']"
   ]
  },
  {
   "cell_type": "code",
   "execution_count": 27,
   "id": "8bbc09a2",
   "metadata": {},
   "outputs": [
    {
     "data": {
      "text/plain": [
       "<matplotlib.legend.Legend at 0x146fcf966a0>"
      ]
     },
     "execution_count": 27,
     "metadata": {},
     "output_type": "execute_result"
    },
    {
     "data": {
      "image/png": "[encoded data removed]",
      "text/plain": [
       "<Figure size 1008x432 with 1 Axes>"
      ]
     },
     "metadata": {
      "needs_background": "light"
     },
     "output_type": "display_data"
    }
   ],
   "source": [
    "plt.figure(figsize = (14,6))\n",
    "date_received_dt = pd.to_datetime(date_received, format='%Y%m%d')\n",
    "plt.bar(date_received_dt, couponbydate['count'], label = 'number of coupon received' )\n",
    "plt.bar(date_received_dt, buybydate['count'], label = 'number of coupon use')\n",
    "plt.yscale('log')\n",
    "plt.ylabel('Count')\n",
    "plt.legend()\n"
   ]
  },
  {
   "cell_type": "code",
   "execution_count": 28,
   "id": "415da5c5",
   "metadata": {
    "scrolled": true
   },
   "outputs": [
    {
     "data": {
      "image/png": "[encoded data removed]",
      "text/plain": [
       "<Figure size 936x648 with 2 Axes>"
      ]
     },
     "metadata": {
      "needs_background": "light"
     },
     "output_type": "display_data"
    }
   ],
   "source": [
    "#获取所有的特征、\n",
    "cols = data.columns\n",
    "#通常认为相关系数大于0.5的为强相关\n",
    "data_corr = data.corr().abs()\n",
    "plt.subplots(figsize=(13,9))\n",
    "sns.heatmap(data_corr,annot=True)\n",
    "plt.show()"
   ]
  },
  {
   "cell_type": "markdown",
   "id": "7e3364a9",
   "metadata": {},
   "source": [
    "# 5、划分训练验证集"
   ]
  },
  {
   "cell_type": "markdown",
   "id": "090bb2f9",
   "metadata": {},
   "source": [
    "为了验证模型的性能，需要划分验证集进行模型验证，划分方式是按照领券日期，即训练集：20160101-20160515，验证集：20160516-20160615。"
   ]
  },
  {
   "cell_type": "code",
   "execution_count": 29,
   "id": "01dfd003",
   "metadata": {},
   "outputs": [
    {
     "name": "stdout",
     "output_type": "stream",
     "text": [
      "Train Set: \n",
      " 0    759172\n",
      "1     41524\n",
      "Name: label, dtype: int64\n",
      "verification Set: \n",
      " 0    229715\n",
      "1     22871\n",
      "Name: label, dtype: int64\n"
     ]
    }
   ],
   "source": [
    "# data split\n",
    "df = data[data['label'] != -1].copy()\n",
    "train = df[(df['Date_received'] < 20160516)].copy()\n",
    "verification = df[(df['Date_received'] >= 20160516) & (df['Date_received'] <= 20160615)].copy()\n",
    "print('Train Set: \\n', train['label'].value_counts())\n",
    "print('verification Set: \\n', verification['label'].value_counts())"
   ]
  },
  {
   "cell_type": "code",
   "execution_count": 30,
   "id": "d59834a4",
   "metadata": {},
   "outputs": [
    {
     "name": "stdout",
     "output_type": "stream",
     "text": [
      "36 ['discount_rate', 'discount_type', 'discount_man', 'discount_jian', 'distance', 'weekday', 'weekday_type', 'weekday_1', 'weekday_2', 'weekday_3', 'weekday_4', 'weekday_5', 'weekday_6', 'weekday_7', 'user1', 'user2', 'user3', 'user4', 'user5', 'user6', 'user7', 'user8', 'user9', 'user10', 'user11', 'user12', 'user13', 'shop1', 'shop2', 'shop3', 'shop4', 'shop5', 'shop6', 'shop7', 'shop8', 'shop9']\n"
     ]
    }
   ],
   "source": [
    "x = ['discount_rate', 'discount_type', 'discount_man', 'discount_jian', 'distance', 'weekday', 'weekday_type', 'weekday_1', 'weekday_2', 'weekday_3', 'weekday_4', 'weekday_5', 'weekday_6', 'weekday_7','user1','user2','user3','user4','user5','user6','user7','user8','user9','user10','user11','user12','user13','shop1','shop2','shop3','shop4','shop5','shop6','shop7','shop8','shop9']\n",
    "print(len(x),x)"
   ]
  },
  {
   "cell_type": "code",
   "execution_count": 31,
   "id": "63211e7a",
   "metadata": {
    "scrolled": true
   },
   "outputs": [
    {
     "data": {
      "text/html": [
       "<div>\n",
       "<style scoped>\n",
       "    .dataframe tbody tr th:only-of-type {\n",
       "        vertical-align: middle;\n",
       "    }\n",
       "\n",
       "    .dataframe tbody tr th {\n",
       "        vertical-align: top;\n",
       "    }\n",
       "\n",
       "    .dataframe thead th {\n",
       "        text-align: right;\n",
       "    }\n",
       "</style>\n",
       "<table border=\"1\" class=\"dataframe\">\n",
       "  <thead>\n",
       "    <tr style=\"text-align: right;\">\n",
       "      <th></th>\n",
       "      <th>discount_rate</th>\n",
       "      <th>discount_type</th>\n",
       "      <th>discount_man</th>\n",
       "      <th>discount_jian</th>\n",
       "      <th>distance</th>\n",
       "      <th>weekday</th>\n",
       "      <th>weekday_type</th>\n",
       "      <th>weekday_1</th>\n",
       "      <th>weekday_2</th>\n",
       "      <th>weekday_3</th>\n",
       "      <th>...</th>\n",
       "      <th>user13</th>\n",
       "      <th>shop1</th>\n",
       "      <th>shop2</th>\n",
       "      <th>shop3</th>\n",
       "      <th>shop4</th>\n",
       "      <th>shop5</th>\n",
       "      <th>shop6</th>\n",
       "      <th>shop7</th>\n",
       "      <th>shop8</th>\n",
       "      <th>shop9</th>\n",
       "    </tr>\n",
       "  </thead>\n",
       "  <tbody>\n",
       "    <tr>\n",
       "      <th>0</th>\n",
       "      <td>1.000000</td>\n",
       "      <td>null</td>\n",
       "      <td>0</td>\n",
       "      <td>0</td>\n",
       "      <td>0.0</td>\n",
       "      <td>null</td>\n",
       "      <td>0</td>\n",
       "      <td>0</td>\n",
       "      <td>0</td>\n",
       "      <td>0</td>\n",
       "      <td>...</td>\n",
       "      <td>0.0</td>\n",
       "      <td>43.0</td>\n",
       "      <td>60</td>\n",
       "      <td>0.0</td>\n",
       "      <td>37.0</td>\n",
       "      <td>0.0</td>\n",
       "      <td>15.0</td>\n",
       "      <td>2.0</td>\n",
       "      <td>0.0</td>\n",
       "      <td>0.0</td>\n",
       "    </tr>\n",
       "    <tr>\n",
       "      <th>1</th>\n",
       "      <td>0.866667</td>\n",
       "      <td>1</td>\n",
       "      <td>150</td>\n",
       "      <td>20</td>\n",
       "      <td>1.0</td>\n",
       "      <td>6</td>\n",
       "      <td>1</td>\n",
       "      <td>0</td>\n",
       "      <td>0</td>\n",
       "      <td>0</td>\n",
       "      <td>...</td>\n",
       "      <td>1.0</td>\n",
       "      <td>15191.0</td>\n",
       "      <td>16549</td>\n",
       "      <td>7861.0</td>\n",
       "      <td>78.0</td>\n",
       "      <td>7855.0</td>\n",
       "      <td>14919.0</td>\n",
       "      <td>6.0</td>\n",
       "      <td>7730.0</td>\n",
       "      <td>15191.0</td>\n",
       "    </tr>\n",
       "    <tr>\n",
       "      <th>2</th>\n",
       "      <td>0.950000</td>\n",
       "      <td>1</td>\n",
       "      <td>20</td>\n",
       "      <td>1</td>\n",
       "      <td>0.0</td>\n",
       "      <td>3</td>\n",
       "      <td>0</td>\n",
       "      <td>0</td>\n",
       "      <td>0</td>\n",
       "      <td>1</td>\n",
       "      <td>...</td>\n",
       "      <td>4.0</td>\n",
       "      <td>43.0</td>\n",
       "      <td>60</td>\n",
       "      <td>1.0</td>\n",
       "      <td>37.0</td>\n",
       "      <td>1.0</td>\n",
       "      <td>15.0</td>\n",
       "      <td>2.0</td>\n",
       "      <td>31.0</td>\n",
       "      <td>43.0</td>\n",
       "    </tr>\n",
       "    <tr>\n",
       "      <th>3</th>\n",
       "      <td>0.950000</td>\n",
       "      <td>1</td>\n",
       "      <td>20</td>\n",
       "      <td>1</td>\n",
       "      <td>0.0</td>\n",
       "      <td>6</td>\n",
       "      <td>1</td>\n",
       "      <td>0</td>\n",
       "      <td>0</td>\n",
       "      <td>0</td>\n",
       "      <td>...</td>\n",
       "      <td>4.0</td>\n",
       "      <td>43.0</td>\n",
       "      <td>60</td>\n",
       "      <td>1.0</td>\n",
       "      <td>37.0</td>\n",
       "      <td>1.0</td>\n",
       "      <td>15.0</td>\n",
       "      <td>2.0</td>\n",
       "      <td>12.0</td>\n",
       "      <td>43.0</td>\n",
       "    </tr>\n",
       "    <tr>\n",
       "      <th>4</th>\n",
       "      <td>0.950000</td>\n",
       "      <td>1</td>\n",
       "      <td>20</td>\n",
       "      <td>1</td>\n",
       "      <td>0.0</td>\n",
       "      <td>1</td>\n",
       "      <td>0</td>\n",
       "      <td>1</td>\n",
       "      <td>0</td>\n",
       "      <td>0</td>\n",
       "      <td>...</td>\n",
       "      <td>4.0</td>\n",
       "      <td>43.0</td>\n",
       "      <td>60</td>\n",
       "      <td>1.0</td>\n",
       "      <td>37.0</td>\n",
       "      <td>1.0</td>\n",
       "      <td>15.0</td>\n",
       "      <td>2.0</td>\n",
       "      <td>31.0</td>\n",
       "      <td>43.0</td>\n",
       "    </tr>\n",
       "  </tbody>\n",
       "</table>\n",
       "<p>5 rows × 36 columns</p>\n",
       "</div>"
      ],
      "text/plain": [
       "   discount_rate discount_type  discount_man  discount_jian  distance weekday  \\\n",
       "0       1.000000          null             0              0       0.0    null   \n",
       "1       0.866667             1           150             20       1.0       6   \n",
       "2       0.950000             1            20              1       0.0       3   \n",
       "3       0.950000             1            20              1       0.0       6   \n",
       "4       0.950000             1            20              1       0.0       1   \n",
       "\n",
       "   weekday_type  weekday_1  weekday_2  weekday_3  ...  user13    shop1  shop2  \\\n",
       "0             0          0          0          0  ...     0.0     43.0     60   \n",
       "1             1          0          0          0  ...     1.0  15191.0  16549   \n",
       "2             0          0          0          1  ...     4.0     43.0     60   \n",
       "3             1          0          0          0  ...     4.0     43.0     60   \n",
       "4             0          1          0          0  ...     4.0     43.0     60   \n",
       "\n",
       "    shop3  shop4   shop5    shop6  shop7   shop8    shop9  \n",
       "0     0.0   37.0     0.0     15.0    2.0     0.0      0.0  \n",
       "1  7861.0   78.0  7855.0  14919.0    6.0  7730.0  15191.0  \n",
       "2     1.0   37.0     1.0     15.0    2.0    31.0     43.0  \n",
       "3     1.0   37.0     1.0     15.0    2.0    12.0     43.0  \n",
       "4     1.0   37.0     1.0     15.0    2.0    31.0     43.0  \n",
       "\n",
       "[5 rows x 36 columns]"
      ]
     },
     "execution_count": 31,
     "metadata": {},
     "output_type": "execute_result"
    }
   ],
   "source": [
    "data[x].head()"
   ]
  },
  {
   "cell_type": "code",
   "execution_count": 32,
   "id": "bec53dfc",
   "metadata": {},
   "outputs": [],
   "source": [
    "x_train = train.loc[:,x]\n",
    "y_train = train.iloc[:,-1:]\n",
    "x_test = verification.loc[:,x]\n",
    "y_test = verification.iloc[:,-1:]\n",
    "X_train = dftest.loc[:,x]"
   ]
  },
  {
   "cell_type": "markdown",
   "id": "352bb6b3",
   "metadata": {},
   "source": [
    "下采样"
   ]
  },
  {
   "cell_type": "code",
   "execution_count": 33,
   "id": "d877e9a5",
   "metadata": {
    "scrolled": true
   },
   "outputs": [
    {
     "name": "stdout",
     "output_type": "stream",
     "text": [
      "(64395,) [1232916  287007 1300450  177891 1228882]\n"
     ]
    },
    {
     "data": {
      "text/html": [
       "<div>\n",
       "<style scoped>\n",
       "    .dataframe tbody tr th:only-of-type {\n",
       "        vertical-align: middle;\n",
       "    }\n",
       "\n",
       "    .dataframe tbody tr th {\n",
       "        vertical-align: top;\n",
       "    }\n",
       "\n",
       "    .dataframe thead th {\n",
       "        text-align: right;\n",
       "    }\n",
       "</style>\n",
       "<table border=\"1\" class=\"dataframe\">\n",
       "  <thead>\n",
       "    <tr style=\"text-align: right;\">\n",
       "      <th></th>\n",
       "      <th>discount_rate</th>\n",
       "      <th>discount_type</th>\n",
       "      <th>discount_man</th>\n",
       "      <th>discount_jian</th>\n",
       "      <th>distance</th>\n",
       "      <th>weekday</th>\n",
       "      <th>weekday_type</th>\n",
       "      <th>weekday_1</th>\n",
       "      <th>weekday_2</th>\n",
       "      <th>weekday_3</th>\n",
       "      <th>...</th>\n",
       "      <th>user13</th>\n",
       "      <th>shop1</th>\n",
       "      <th>shop2</th>\n",
       "      <th>shop3</th>\n",
       "      <th>shop4</th>\n",
       "      <th>shop5</th>\n",
       "      <th>shop6</th>\n",
       "      <th>shop7</th>\n",
       "      <th>shop8</th>\n",
       "      <th>shop9</th>\n",
       "    </tr>\n",
       "  </thead>\n",
       "  <tbody>\n",
       "    <tr>\n",
       "      <th>33</th>\n",
       "      <td>0.950000</td>\n",
       "      <td>1</td>\n",
       "      <td>20</td>\n",
       "      <td>1</td>\n",
       "      <td>0.0</td>\n",
       "      <td>7</td>\n",
       "      <td>1</td>\n",
       "      <td>0</td>\n",
       "      <td>0</td>\n",
       "      <td>0</td>\n",
       "      <td>...</td>\n",
       "      <td>2.0</td>\n",
       "      <td>17.0</td>\n",
       "      <td>77</td>\n",
       "      <td>1.0</td>\n",
       "      <td>10.0</td>\n",
       "      <td>1.0</td>\n",
       "      <td>11.0</td>\n",
       "      <td>1.0</td>\n",
       "      <td>17.0</td>\n",
       "      <td>17.0</td>\n",
       "    </tr>\n",
       "    <tr>\n",
       "      <th>38</th>\n",
       "      <td>0.750000</td>\n",
       "      <td>1</td>\n",
       "      <td>20</td>\n",
       "      <td>5</td>\n",
       "      <td>0.0</td>\n",
       "      <td>1</td>\n",
       "      <td>0</td>\n",
       "      <td>1</td>\n",
       "      <td>0</td>\n",
       "      <td>0</td>\n",
       "      <td>...</td>\n",
       "      <td>1.0</td>\n",
       "      <td>1047.0</td>\n",
       "      <td>2927</td>\n",
       "      <td>119.0</td>\n",
       "      <td>18.0</td>\n",
       "      <td>75.0</td>\n",
       "      <td>764.0</td>\n",
       "      <td>2.0</td>\n",
       "      <td>690.0</td>\n",
       "      <td>1047.0</td>\n",
       "    </tr>\n",
       "    <tr>\n",
       "      <th>69</th>\n",
       "      <td>0.833333</td>\n",
       "      <td>1</td>\n",
       "      <td>30</td>\n",
       "      <td>5</td>\n",
       "      <td>0.0</td>\n",
       "      <td>1</td>\n",
       "      <td>0</td>\n",
       "      <td>1</td>\n",
       "      <td>0</td>\n",
       "      <td>0</td>\n",
       "      <td>...</td>\n",
       "      <td>7.0</td>\n",
       "      <td>13886.0</td>\n",
       "      <td>25673</td>\n",
       "      <td>532.0</td>\n",
       "      <td>78.0</td>\n",
       "      <td>532.0</td>\n",
       "      <td>12161.0</td>\n",
       "      <td>8.0</td>\n",
       "      <td>10276.0</td>\n",
       "      <td>12839.0</td>\n",
       "    </tr>\n",
       "    <tr>\n",
       "      <th>76</th>\n",
       "      <td>0.833333</td>\n",
       "      <td>1</td>\n",
       "      <td>30</td>\n",
       "      <td>5</td>\n",
       "      <td>0.0</td>\n",
       "      <td>7</td>\n",
       "      <td>1</td>\n",
       "      <td>0</td>\n",
       "      <td>0</td>\n",
       "      <td>0</td>\n",
       "      <td>...</td>\n",
       "      <td>7.0</td>\n",
       "      <td>36162.0</td>\n",
       "      <td>66747</td>\n",
       "      <td>12586.0</td>\n",
       "      <td>40.0</td>\n",
       "      <td>7805.0</td>\n",
       "      <td>19389.0</td>\n",
       "      <td>3.0</td>\n",
       "      <td>21760.0</td>\n",
       "      <td>28802.0</td>\n",
       "    </tr>\n",
       "    <tr>\n",
       "      <th>77</th>\n",
       "      <td>0.800000</td>\n",
       "      <td>1</td>\n",
       "      <td>50</td>\n",
       "      <td>10</td>\n",
       "      <td>0.0</td>\n",
       "      <td>3</td>\n",
       "      <td>0</td>\n",
       "      <td>0</td>\n",
       "      <td>0</td>\n",
       "      <td>1</td>\n",
       "      <td>...</td>\n",
       "      <td>2.0</td>\n",
       "      <td>36162.0</td>\n",
       "      <td>66747</td>\n",
       "      <td>1330.0</td>\n",
       "      <td>40.0</td>\n",
       "      <td>1024.0</td>\n",
       "      <td>19389.0</td>\n",
       "      <td>3.0</td>\n",
       "      <td>7360.0</td>\n",
       "      <td>7360.0</td>\n",
       "    </tr>\n",
       "  </tbody>\n",
       "</table>\n",
       "<p>5 rows × 36 columns</p>\n",
       "</div>"
      ],
      "text/plain": [
       "    discount_rate discount_type  discount_man  discount_jian  distance  \\\n",
       "33       0.950000             1            20              1       0.0   \n",
       "38       0.750000             1            20              5       0.0   \n",
       "69       0.833333             1            30              5       0.0   \n",
       "76       0.833333             1            30              5       0.0   \n",
       "77       0.800000             1            50             10       0.0   \n",
       "\n",
       "   weekday  weekday_type  weekday_1  weekday_2  weekday_3  ...  user13  \\\n",
       "33       7             1          0          0          0  ...     2.0   \n",
       "38       1             0          1          0          0  ...     1.0   \n",
       "69       1             0          1          0          0  ...     7.0   \n",
       "76       7             1          0          0          0  ...     7.0   \n",
       "77       3             0          0          0          1  ...     2.0   \n",
       "\n",
       "      shop1  shop2    shop3  shop4   shop5    shop6  shop7    shop8    shop9  \n",
       "33     17.0     77      1.0   10.0     1.0     11.0    1.0     17.0     17.0  \n",
       "38   1047.0   2927    119.0   18.0    75.0    764.0    2.0    690.0   1047.0  \n",
       "69  13886.0  25673    532.0   78.0   532.0  12161.0    8.0  10276.0  12839.0  \n",
       "76  36162.0  66747  12586.0   40.0  7805.0  19389.0    3.0  21760.0  28802.0  \n",
       "77  36162.0  66747   1330.0   40.0  1024.0  19389.0    3.0   7360.0   7360.0  \n",
       "\n",
       "[5 rows x 36 columns]"
      ]
     },
     "execution_count": 33,
     "metadata": {},
     "output_type": "execute_result"
    }
   ],
   "source": [
    "number_records_fraud = len(data[data['label'] == 1])#取异常样本的个数  \n",
    "fraud_indices = np.array(data[data['label'] == 1].index)#取异常数据的索引值\n",
    "# print(fraud_indices)\n",
    "\n",
    "normal_indices = data[data['label'] == 0].index#取正常样本的索引\n",
    "\n",
    "\n",
    "random_normal_indices = np.random.choice(normal_indices, number_records_fraud, replace = False)\n",
    "print(random_normal_indices.shape,random_normal_indices[:5])\n",
    "#np.random.choice()在某个1维矩阵中随机选出元素，依次输入选择的区域normal_indices，选择的个数size=number_records_fraud，replace是否放回\n",
    "#在normal_indices中随机选择，normal_indices是index索引值组成的一维矩阵，number_records_fraud选择个数\n",
    "random_normal_indices = np.array(random_normal_indices)#将随机挑选的数据的index值转换为ndarray结构\n",
    "# print(random_normal_indices)\n",
    "\n",
    "\n",
    "under_sample_indices = np.hstack((fraud_indices,random_normal_indices))\n",
    "#np.hstack()将两个array矩阵左右合并，得到类别是0和1的组合后数据的index值组成的矩阵，\n",
    "# print(under_sample_indices)\n",
    "\n",
    "under_sample_data = data.iloc[under_sample_indices,:]#通过index将组合后的数据取出，下采样的数据集\n",
    "# print(under_sample_data)\n",
    "X_undersample = under_sample_data.loc[:, under_sample_data.columns != 'label']#将下采样数据取出特征数据\n",
    "y_undersample = under_sample_data.loc[:, under_sample_data.columns == 'label']#将下采样数据取出标签数据\n",
    "X_undersample = X_undersample[x]\n",
    "X_undersample.head()"
   ]
  },
  {
   "cell_type": "code",
   "execution_count": 34,
   "id": "a3b68402",
   "metadata": {},
   "outputs": [],
   "source": [
    "# x_train2, x_test2, y_train2, y_test2 = train_test_split(X_undersample, y_undersample, test_size=0.33, random_state=42)"
   ]
  },
  {
   "cell_type": "code",
   "execution_count": 37,
   "id": "f85ee243",
   "metadata": {},
   "outputs": [
    {
     "data": {
      "application/vnd.jupyter.widget-view+json": {
       "model_id": "841d2add6e1d45a88079c16f1fe2b371",
       "version_major": 2,
       "version_minor": 0
      },
      "text/plain": [
       "                                             |                                                      | [  0%]  …"
      ]
     },
     "metadata": {},
     "output_type": "display_data"
    },
    {
     "name": "stdout",
     "output_type": "stream",
     "text": [
      "Report SWEETVIZ_REPORT.html was generated! NOTEBOOK/COLAB USERS: the web browser MAY not pop up, regardless, the report IS saved in your notebook/colab files.\n"
     ]
    }
   ],
   "source": [
    "data[x] = data[x].dropna()\n",
    "data[x] = data[x].replace('null',0)\n",
    "report = sv.analyze(data[x])\n",
    "report.show_html()"
   ]
  },
  {
   "cell_type": "code",
   "execution_count": 38,
   "id": "448f606e",
   "metadata": {},
   "outputs": [
    {
     "data": {
      "application/vnd.jupyter.widget-view+json": {
       "model_id": "ea919d6f711e4eda9c53ade436c6720b",
       "version_major": 2,
       "version_minor": 0
      },
      "text/plain": [
       "                                             |                                                      | [  0%]  …"
      ]
     },
     "metadata": {},
     "output_type": "display_data"
    },
    {
     "name": "stdout",
     "output_type": "stream",
     "text": [
      "Report SWEETVIZ_REPORT.html was generated! NOTEBOOK/COLAB USERS: the web browser MAY not pop up, regardless, the report IS saved in your notebook/colab files.\n"
     ]
    }
   ],
   "source": [
    "data[x] = data[x].dropna()\n",
    "report = sv.compare(x_train[x],x_test[x])\n",
    "report.show_html()"
   ]
  },
  {
   "cell_type": "markdown",
   "id": "4ae30246",
   "metadata": {},
   "source": [
    "特征筛选"
   ]
  },
  {
   "cell_type": "code",
   "execution_count": null,
   "id": "65951555",
   "metadata": {},
   "outputs": [],
   "source": [
    "# from sklearn.feature_selection import SelectFromModel\n",
    "# from sklearn.svm import LinearSVC\n",
    "# lsvc = LinearSVC(C=0.01, penalty=\"l1\", dual=False).fit(X_undersample, y_undersample)\n",
    "# model = SelectFromModel(lsvc, prefit=True)\n",
    "# x_train_new = model.transform(x_train)\n",
    "# x_test_new = model.transform(x_test)"
   ]
  },
  {
   "cell_type": "markdown",
   "id": "ab0367b8",
   "metadata": {},
   "source": [
    "# 6、构建模型"
   ]
  },
  {
   "cell_type": "markdown",
   "id": "edf2fd33",
   "metadata": {},
   "source": [
    "# 一、随机森林"
   ]
  },
  {
   "cell_type": "code",
   "execution_count": 35,
   "id": "cbd71d16",
   "metadata": {},
   "outputs": [
    {
     "data": {
      "text/plain": [
       "RandomForestClassifier(class_weight='balanced', max_depth=4, n_estimators=1000)"
      ]
     },
     "execution_count": 35,
     "metadata": {},
     "output_type": "execute_result"
    }
   ],
   "source": [
    "RF = RandomForestClassifier(n_estimators=1000,max_depth=4,class_weight='balanced')\n",
    "RF.fit(X_undersample,y_undersample)"
   ]
  },
  {
   "cell_type": "code",
   "execution_count": 36,
   "id": "ba44df0c",
   "metadata": {},
   "outputs": [
    {
     "name": "stdout",
     "output_type": "stream",
     "text": [
      "train_auc:  0.8645636214113087\n",
      "test_auc:  0.8288968173567597\n"
     ]
    }
   ],
   "source": [
    "# #### 预测以及结果评价\n",
    "y_train_hat=RF.predict_proba(x_train)\n",
    "train_auc = roc_auc_score(y_train,y_train_hat[:,1])\n",
    "y_test_hat=RF.predict_proba(x_test)\n",
    "test_auc = roc_auc_score(y_test,y_test_hat[:,1])\n",
    "print('train_auc: ', train_auc)\n",
    "print('test_auc: ', test_auc)\n"
   ]
  },
  {
   "cell_type": "code",
   "execution_count": 37,
   "id": "f867fdbd",
   "metadata": {},
   "outputs": [
    {
     "name": "stdout",
     "output_type": "stream",
     "text": [
      "              precision    recall  f1-score   support\n",
      "\n",
      "           0       0.98      0.61      0.75    229715\n",
      "           1       0.18      0.87      0.30     22871\n",
      "\n",
      "    accuracy                           0.63    252586\n",
      "   macro avg       0.58      0.74      0.52    252586\n",
      "weighted avg       0.91      0.63      0.71    252586\n",
      "\n",
      "[[139501  90214]\n",
      " [  3026  19845]]\n"
     ]
    }
   ],
   "source": [
    "y_=RF.predict(x_test)\n",
    "print(classification_report(y_test, y_))#分类报告\n",
    "print(confusion_matrix(y_test,y_))"
   ]
  },
  {
   "cell_type": "code",
   "execution_count": 38,
   "id": "81aa2c1b",
   "metadata": {},
   "outputs": [
    {
     "data": {
      "image/png": "[encoded data removed]",
      "text/plain": [
       "<Figure size 432x288 with 1 Axes>"
      ]
     },
     "metadata": {
      "needs_background": "light"
     },
     "output_type": "display_data"
    }
   ],
   "source": [
    "fpr, tpr, th = roc_curve(y_test, y_test_hat[:,1])\n",
    "plt.plot(fpr, tpr)\n",
    "plt.xlabel('fpr')\n",
    "plt.ylabel('tpr')\n",
    "plt.grid()\n",
    "plt.show()"
   ]
  },
  {
   "cell_type": "code",
   "execution_count": 39,
   "id": "2bc4808b",
   "metadata": {},
   "outputs": [],
   "source": [
    "# Y_test_pred = RF.predict_proba(X_train)\n",
    "# dftest1 = dftest[['User_id','Coupon_id','Date_received']].copy()\n",
    "# dftest1['label'] = Y_test_pred[:,1]\n",
    "# dftest1.to_csv('O2O消费券-RF.csv', index=False, header=False)\n",
    "# dftest1.head()"
   ]
  },
  {
   "cell_type": "markdown",
   "id": "9c8c922d",
   "metadata": {},
   "source": [
    "# 二、AdaBOOST算法"
   ]
  },
  {
   "cell_type": "code",
   "execution_count": 57,
   "id": "69d51ff1",
   "metadata": {},
   "outputs": [
    {
     "data": {
      "text/plain": [
       "AdaBoostClassifier()"
      ]
     },
     "execution_count": 57,
     "metadata": {},
     "output_type": "execute_result"
    }
   ],
   "source": [
    "AB1 = AdaBoostClassifier()\n",
    "AB1.fit(X_undersample,y_undersample)"
   ]
  },
  {
   "cell_type": "code",
   "execution_count": 58,
   "id": "adbbbc74",
   "metadata": {},
   "outputs": [
    {
     "name": "stdout",
     "output_type": "stream",
     "text": [
      "train_auc:  0.8857066610352562\n",
      "test_auc:  0.8423714649396086\n"
     ]
    }
   ],
   "source": [
    "# #### 预测以及结果评价\n",
    "y_train_hat=AB1.predict_proba(x_train)\n",
    "train_auc = roc_auc_score(y_train,y_train_hat[:,1])\n",
    "y_test_hat=AB1.predict_proba(x_test)\n",
    "test_auc = roc_auc_score(y_test,y_test_hat[:,1])\n",
    "print('train_auc: ', train_auc)\n",
    "print('test_auc: ', test_auc)"
   ]
  },
  {
   "cell_type": "code",
   "execution_count": 59,
   "id": "2d06756e",
   "metadata": {},
   "outputs": [
    {
     "name": "stdout",
     "output_type": "stream",
     "text": [
      "              precision    recall  f1-score   support\n",
      "\n",
      "           0       0.98      0.71      0.82    229715\n",
      "           1       0.22      0.82      0.35     22871\n",
      "\n",
      "    accuracy                           0.72    252586\n",
      "   macro avg       0.60      0.77      0.59    252586\n",
      "weighted avg       0.91      0.72      0.78    252586\n",
      "\n",
      "[[163900  65815]\n",
      " [  4152  18719]]\n"
     ]
    }
   ],
   "source": [
    "y_=AB1.predict(x_test)\n",
    "print(classification_report(y_test, y_))#分类报告\n",
    "print(confusion_matrix(y_test,y_))"
   ]
  },
  {
   "cell_type": "code",
   "execution_count": 60,
   "id": "66198ef2",
   "metadata": {},
   "outputs": [
    {
     "data": {
      "image/png": "[encoded data removed]",
      "text/plain": [
       "<Figure size 432x288 with 1 Axes>"
      ]
     },
     "metadata": {
      "needs_background": "light"
     },
     "output_type": "display_data"
    }
   ],
   "source": [
    "fpr, tpr, th = roc_curve(y_test, y_test_hat[:,1])\n",
    "plt.plot(fpr, tpr)\n",
    "plt.xlabel('fpr')\n",
    "plt.ylabel('tpr')\n",
    "plt.grid()\n",
    "plt.show()"
   ]
  },
  {
   "cell_type": "code",
   "execution_count": 44,
   "id": "43cc42b9",
   "metadata": {},
   "outputs": [],
   "source": [
    "# Y_test_pred = AB.predict_proba(X_train)\n",
    "# dftest1 = dftest[['User_id','Coupon_id','Date_received']].copy()\n",
    "# dftest1['label'] = Y_test_pred[:,1]\n",
    "# dftest1.to_csv('O2O消费券-AdaBoost2.csv', index=False, header=False)\n",
    "# dftest1.head()"
   ]
  },
  {
   "cell_type": "markdown",
   "id": "d4d0a348",
   "metadata": {},
   "source": [
    "# 三、GBDT算法"
   ]
  },
  {
   "cell_type": "code",
   "execution_count": 45,
   "id": "6b02b157",
   "metadata": {},
   "outputs": [
    {
     "data": {
      "text/plain": [
       "GradientBoostingClassifier(max_depth=2, n_estimators=45)"
      ]
     },
     "execution_count": 45,
     "metadata": {},
     "output_type": "execute_result"
    }
   ],
   "source": [
    "GBDT1 = GradientBoostingClassifier(n_estimators=45, max_depth=2)\n",
    "GBDT1.fit(X_undersample, y_undersample)"
   ]
  },
  {
   "cell_type": "code",
   "execution_count": 46,
   "id": "0d4b46f9",
   "metadata": {},
   "outputs": [
    {
     "name": "stdout",
     "output_type": "stream",
     "text": [
      "train_auc:  0.8748535703028082\n",
      "test_auc:  0.8380688969164086\n"
     ]
    }
   ],
   "source": [
    "# #### 预测以及结果评价\n",
    "y_train_hat=GBDT1.predict_proba(x_train)\n",
    "train_auc = roc_auc_score(y_train,y_train_hat[:,1])\n",
    "y_test_hat=GBDT1.predict_proba(x_test)\n",
    "test_auc = roc_auc_score(y_test,y_test_hat[:,1])\n",
    "print('train_auc: ', train_auc)\n",
    "print('test_auc: ', test_auc)"
   ]
  },
  {
   "cell_type": "code",
   "execution_count": 47,
   "id": "b07b1194",
   "metadata": {},
   "outputs": [
    {
     "name": "stdout",
     "output_type": "stream",
     "text": [
      "              precision    recall  f1-score   support\n",
      "\n",
      "           0       0.98      0.64      0.78    229715\n",
      "           1       0.19      0.86      0.31     22871\n",
      "\n",
      "    accuracy                           0.66    252586\n",
      "   macro avg       0.59      0.75      0.55    252586\n",
      "weighted avg       0.91      0.66      0.73    252586\n",
      "\n",
      "[[147426  82289]\n",
      " [  3218  19653]]\n"
     ]
    }
   ],
   "source": [
    "y_=GBDT1.predict(x_test)\n",
    "print(classification_report(y_test, y_))#分类报告\n",
    "print(confusion_matrix(y_test,y_))"
   ]
  },
  {
   "cell_type": "code",
   "execution_count": 48,
   "id": "a75345c9",
   "metadata": {},
   "outputs": [
    {
     "data": {
      "image/png": "[encoded data removed]",
      "text/plain": [
       "<Figure size 432x288 with 1 Axes>"
      ]
     },
     "metadata": {
      "needs_background": "light"
     },
     "output_type": "display_data"
    }
   ],
   "source": [
    "fpr, tpr, th = roc_curve(y_test, y_test_hat[:,1])\n",
    "plt.plot(fpr, tpr)\n",
    "plt.xlabel('fpr')\n",
    "plt.ylabel('tpr')\n",
    "plt.grid()\n",
    "plt.show()"
   ]
  },
  {
   "cell_type": "code",
   "execution_count": 49,
   "id": "cfc5f814",
   "metadata": {},
   "outputs": [],
   "source": [
    "# Y_test_pred = GBDT.predict_proba(X_train)\n",
    "# dftest1 = dftest[['User_id','Coupon_id','Date_received']].copy()\n",
    "# dftest1['label'] = Y_test_pred[:,1]\n",
    "# dftest1.to_csv('O2O消费券-GBDT.csv', index=False, header=False)\n",
    "# dftest1.head()"
   ]
  },
  {
   "cell_type": "markdown",
   "id": "81bb1ff0",
   "metadata": {},
   "source": [
    "# XGBoost"
   ]
  },
  {
   "cell_type": "code",
   "execution_count": 97,
   "id": "cf30ed2f",
   "metadata": {},
   "outputs": [],
   "source": [
    "# X_undersample['discount_type'] = X_undersample['discount_type'].astype(int)\n",
    "# X_undersample['weekday'] = X_undersample['weekday'].astype(int)\n",
    "x_train['discount_type'] = x_train['discount_type'].astype(int)\n",
    "x_train['weekday'] = x_train['weekday'].astype(int)\n",
    "x_test['discount_type'] = x_test['discount_type'].astype(int)\n",
    "x_test['weekday'] = x_test['weekday'].astype(int)\n",
    "# X_undersample.info()"
   ]
  },
  {
   "cell_type": "code",
   "execution_count": 70,
   "id": "57342371",
   "metadata": {},
   "outputs": [
    {
     "data": {
      "text/plain": [
       "XGBClassifier(base_score=0.5, booster='gbtree', colsample_bylevel=1,\n",
       "              colsample_bynode=1, colsample_bytree=1, enable_categorical=False,\n",
       "              eval_metric='auc', gamma=0, gpu_id=-1, importance_type=None,\n",
       "              interaction_constraints='', learning_rate=0.300000012,\n",
       "              max_delta_step=0, max_depth=6, min_child_weight=1, missing=nan,\n",
       "              monotone_constraints='()', n_estimators=100, n_jobs=8,\n",
       "              num_parallel_tree=1, predictor='auto', random_state=0,\n",
       "              reg_alpha=0, reg_lambda=1, scale_pos_weight=1, subsample=1,\n",
       "              tree_method='exact', validate_parameters=1, verbosity=None)"
      ]
     },
     "execution_count": 70,
     "metadata": {},
     "output_type": "execute_result"
    }
   ],
   "source": [
    "xgb = XGBClassifier(eval_metric='auc')\n",
    "xgb.fit(x_train,y_train)"
   ]
  },
  {
   "cell_type": "code",
   "execution_count": 71,
   "id": "a8d5ad77",
   "metadata": {},
   "outputs": [
    {
     "name": "stdout",
     "output_type": "stream",
     "text": [
      "train_auc:  0.9170404987572534\n",
      "test_auc:  0.8558120178483402\n"
     ]
    }
   ],
   "source": [
    "# #### 预测以及结果评价\n",
    "y_train_hat=xgb.predict_proba(x_train)\n",
    "train_auc = roc_auc_score(y_train,y_train_hat[:,1])\n",
    "y_test_hat=xgb.predict_proba(x_test)\n",
    "test_auc = roc_auc_score(y_test,y_test_hat[:,1])\n",
    "print('train_auc: ', train_auc)\n",
    "print('test_auc: ', test_auc)"
   ]
  },
  {
   "cell_type": "code",
   "execution_count": 72,
   "id": "aa14a7e1",
   "metadata": {},
   "outputs": [
    {
     "data": {
      "image/png": "[encoded data removed]",
      "text/plain": [
       "<Figure size 432x288 with 1 Axes>"
      ]
     },
     "metadata": {
      "needs_background": "light"
     },
     "output_type": "display_data"
    }
   ],
   "source": [
    "fpr, tpr, th = roc_curve(y_test, y_test_hat[:,1])\n",
    "plt.plot(fpr, tpr)\n",
    "plt.xlabel('fpr')\n",
    "plt.ylabel('tpr')\n",
    "plt.grid()\n",
    "plt.show()"
   ]
  },
  {
   "cell_type": "code",
   "execution_count": 74,
   "id": "d028fd59",
   "metadata": {},
   "outputs": [],
   "source": [
    "# Y_test_pred = xgb.predict_proba(X_train)\n",
    "# dftest1 = dftest[['User_id','Coupon_id','Date_received']].copy()\n",
    "# dftest1['label'] = Y_test_pred[:,1]\n",
    "# dftest1.to_csv('O2O消费券-xgb.csv', index=False, header=False)\n",
    "# dftest1.head()"
   ]
  },
  {
   "cell_type": "markdown",
   "id": "508d985d",
   "metadata": {},
   "source": [
    "1、对scale_pos_weight（权重）,min_child_weight(防止过拟合)，max_delta_step(树的深度)调参"
   ]
  },
  {
   "cell_type": "code",
   "execution_count": 25,
   "id": "3801448f",
   "metadata": {},
   "outputs": [
    {
     "name": "stdout",
     "output_type": "stream",
     "text": [
      "程序运行时间：219.00分\n"
     ]
    }
   ],
   "source": [
    "start = time.time()\n",
    "params = {\n",
    "        'scale_pos_weight':[1,2,3],\n",
    "        'min_child_weight':[1,2,3],\n",
    "        'max_delta_step' : [1,2,3]\n",
    "}\n",
    "Grid_xgb_test5 = GridSearchCV(XGBClassifier(eval_metric='auc'),param_grid=params,cv=5)\n",
    "Grid_xgb_test5.fit(x_train,y_train)\n",
    "end = time.time()\n",
    "print('程序运行时间：%.2f分' %((end - start)/60))"
   ]
  },
  {
   "cell_type": "code",
   "execution_count": 26,
   "id": "aac09589",
   "metadata": {},
   "outputs": [
    {
     "name": "stdout",
     "output_type": "stream",
     "text": [
      "训练过程分数及参数： nan {'max_delta_step': 1, 'min_child_weight': 1, 'scale_pos_weight': 1}\n",
      "训练过程分数及参数： 0.9472171706038323 {'max_delta_step': 1, 'min_child_weight': 1, 'scale_pos_weight': 2}\n",
      "训练过程分数及参数： 0.9383836048880019 {'max_delta_step': 1, 'min_child_weight': 1, 'scale_pos_weight': 3}\n",
      "训练过程分数及参数： 0.9516907787318305 {'max_delta_step': 1, 'min_child_weight': 2, 'scale_pos_weight': 1}\n",
      "训练过程分数及参数： 0.9471347423538765 {'max_delta_step': 1, 'min_child_weight': 2, 'scale_pos_weight': 2}\n",
      "训练过程分数及参数： 0.9386671087267384 {'max_delta_step': 1, 'min_child_weight': 2, 'scale_pos_weight': 3}\n",
      "训练过程分数及参数： 0.951774455631629 {'max_delta_step': 1, 'min_child_weight': 3, 'scale_pos_weight': 1}\n",
      "训练过程分数及参数： 0.9471584717077774 {'max_delta_step': 1, 'min_child_weight': 3, 'scale_pos_weight': 2}\n",
      "训练过程分数及参数： 0.9385621989070468 {'max_delta_step': 1, 'min_child_weight': 3, 'scale_pos_weight': 3}\n",
      "训练过程分数及参数： 0.951650814075579 {'max_delta_step': 2, 'min_child_weight': 1, 'scale_pos_weight': 1}\n",
      "训练过程分数及参数： 0.9471597201626478 {'max_delta_step': 2, 'min_child_weight': 1, 'scale_pos_weight': 2}\n",
      "训练过程分数及参数： 0.9384685309835656 {'max_delta_step': 2, 'min_child_weight': 1, 'scale_pos_weight': 3}\n",
      "训练过程分数及参数： 0.9516970233536493 {'max_delta_step': 2, 'min_child_weight': 2, 'scale_pos_weight': 1}\n",
      "训练过程分数及参数： 0.9471235025243733 {'max_delta_step': 2, 'min_child_weight': 2, 'scale_pos_weight': 2}\n",
      "训练过程分数及参数： 0.9386683571816088 {'max_delta_step': 2, 'min_child_weight': 2, 'scale_pos_weight': 3}\n",
      "训练过程分数及参数： 0.9518418972446747 {'max_delta_step': 2, 'min_child_weight': 3, 'scale_pos_weight': 1}\n",
      "训练过程分数及参数： 0.9472771188438311 {'max_delta_step': 2, 'min_child_weight': 3, 'scale_pos_weight': 2}\n",
      "训练过程分数及参数： 0.9385059984025228 {'max_delta_step': 2, 'min_child_weight': 3, 'scale_pos_weight': 3}\n",
      "训练过程分数及参数： 0.9516920277560199 {'max_delta_step': 3, 'min_child_weight': 1, 'scale_pos_weight': 1}\n",
      "训练过程分数及参数： 0.9473220798386066 {'max_delta_step': 3, 'min_child_weight': 1, 'scale_pos_weight': 2}\n",
      "训练过程分数及参数： 0.9387445415350427 {'max_delta_step': 3, 'min_child_weight': 1, 'scale_pos_weight': 3}\n",
      "训练过程分数及参数： 0.9516495645912546 {'max_delta_step': 3, 'min_child_weight': 2, 'scale_pos_weight': 1}\n",
      "训练过程分数及参数： 0.9472583847522069 {'max_delta_step': 3, 'min_child_weight': 2, 'scale_pos_weight': 2}\n",
      "训练过程分数及参数： 0.938471028649799 {'max_delta_step': 3, 'min_child_weight': 2, 'scale_pos_weight': 3}\n",
      "训练过程分数及参数： 0.9517694599872062 {'max_delta_step': 3, 'min_child_weight': 3, 'scale_pos_weight': 1}\n",
      "训练过程分数及参数： 0.9471060174725363 {'max_delta_step': 3, 'min_child_weight': 3, 'scale_pos_weight': 2}\n",
      "训练过程分数及参数： 0.9385497104588966 {'max_delta_step': 3, 'min_child_weight': 3, 'scale_pos_weight': 3}\n",
      "\n",
      "最好的分数以及参数： 0.9518418972446747 {'max_delta_step': 2, 'min_child_weight': 3, 'scale_pos_weight': 1}\n"
     ]
    }
   ],
   "source": [
    "means = Grid_xgb_test5.cv_results_['mean_test_score']\n",
    "params = Grid_xgb_test5.cv_results_['params']\n",
    "for i in range(len(means)):\n",
    "    print('训练过程分数及参数：',means[i],params[i] )\n",
    "print('\\n最好的分数以及参数：',Grid_xgb_test5.best_score_,Grid_xgb_test5.best_params_)"
   ]
  },
  {
   "cell_type": "markdown",
   "id": "8b4e7298",
   "metadata": {},
   "source": [
    "2、对n_estimators(弱学习期的数目)以及学习率调参"
   ]
  },
  {
   "cell_type": "code",
   "execution_count": 26,
   "id": "cc7fe0b3",
   "metadata": {},
   "outputs": [
    {
     "name": "stdout",
     "output_type": "stream",
     "text": [
      "程序运行时间：178.44分\n"
     ]
    }
   ],
   "source": [
    "start = time.time()\n",
    "params = {\n",
    "        'n_estimators':[460,500,510,550,600,1000],\n",
    "        'learning_rate':[0.1]      \n",
    "}\n",
    "Grid_xgb_test1 = GridSearchCV(XGBClassifier(eval_metric='auc',max_delta_step=2,min_child_weight=3,scale_pos_weight=1),param_grid=params,cv=5)\n",
    "Grid_xgb_test1.fit(x_train,y_train)\n",
    "end = time.time()\n",
    "print('程序运行时间：%.2f分' %((end - start)/60))"
   ]
  },
  {
   "cell_type": "code",
   "execution_count": 27,
   "id": "1b5b622a",
   "metadata": {},
   "outputs": [
    {
     "name": "stdout",
     "output_type": "stream",
     "text": [
      "训练过程分数及参数： 0.9520941777091549 {'learning_rate': 0.1, 'n_estimators': 460}\n",
      "训练过程分数及参数： 0.952162868011038 {'learning_rate': 0.1, 'n_estimators': 500}\n",
      "训练过程分数及参数： 0.9521328940977094 {'learning_rate': 0.1, 'n_estimators': 510}\n",
      "训练过程分数及参数： 0.9521216540030435 {'learning_rate': 0.1, 'n_estimators': 550}\n",
      "训练过程分数及参数： 0.9521191561496367 {'learning_rate': 0.1, 'n_estimators': 600}\n",
      "训练过程分数及参数： 0.9518881070218743 {'learning_rate': 0.1, 'n_estimators': 1000}\n",
      "\n",
      "最好的分数以及参数： 0.952162868011038 {'learning_rate': 0.1, 'n_estimators': 500}\n"
     ]
    }
   ],
   "source": [
    "means = Grid_xgb_test1.cv_results_['mean_test_score']\n",
    "params = Grid_xgb_test1.cv_results_['params']\n",
    "for i in range(len(means)):\n",
    "    print('训练过程分数及参数：',means[i],params[i])\n",
    "print('\\n最好的分数以及参数：',Grid_xgb_test1.best_score_,Grid_xgb_test1.best_params_)"
   ]
  },
  {
   "cell_type": "markdown",
   "id": "cab5c841",
   "metadata": {},
   "source": [
    "经过多次迭代训练n_estimators的值取500,学习率选0.1"
   ]
  },
  {
   "cell_type": "markdown",
   "id": "37e96cdf",
   "metadata": {},
   "source": [
    "3、对max_depth(树的深度)调参"
   ]
  },
  {
   "cell_type": "code",
   "execution_count": 25,
   "id": "92cebe28",
   "metadata": {},
   "outputs": [
    {
     "name": "stdout",
     "output_type": "stream",
     "text": [
      "程序运行时间：162.40分\n"
     ]
    }
   ],
   "source": [
    "start = time.time()\n",
    "params = {\n",
    "        'max_depth':range(4,10)   \n",
    "}\n",
    "Grid_xgb_test2 = GridSearchCV(XGBClassifier(learning_rate=0.1,n_estimators=500,max_delta_step=2,min_child_weight=3,scale_pos_weight=1,eval_metric='auc'),param_grid=params,cv=5)\n",
    "Grid_xgb_test2.fit(x_train,y_train)\n",
    "end = time.time()\n",
    "print('程序运行时间：%.2f分' %((end - start)/60))"
   ]
  },
  {
   "cell_type": "code",
   "execution_count": 26,
   "id": "2dba65c8",
   "metadata": {},
   "outputs": [
    {
     "name": "stdout",
     "output_type": "stream",
     "text": [
      "训练过程分数及参数： nan {'max_depth': 4}\n",
      "训练过程分数及参数： 0.9520592078238499 {'max_depth': 5}\n",
      "训练过程分数及参数： 0.952162868011038 {'max_depth': 6}\n",
      "训练过程分数及参数： 0.951920579014778 {'max_depth': 7}\n",
      "训练过程分数及参数： 0.9518069280456727 {'max_depth': 8}\n",
      "训练过程分数及参数： 0.9513235985704135 {'max_depth': 9}\n",
      "\n",
      "最好的分数以及参数： 0.952162868011038 {'max_depth': 6}\n"
     ]
    }
   ],
   "source": [
    "means = Grid_xgb_test2.cv_results_['mean_test_score']\n",
    "params = Grid_xgb_test2.cv_results_['params']\n",
    "for i in range(len(means)):\n",
    "    print('训练过程分数及参数：',means[i],params[i] )\n",
    "print('\\n最好的分数以及参数：',Grid_xgb_test2.best_score_,Grid_xgb_test2.best_params_)"
   ]
  },
  {
   "cell_type": "code",
   "execution_count": 28,
   "id": "0c685aa2",
   "metadata": {},
   "outputs": [
    {
     "data": {
      "image/png": "[encoded data removed]",
      "text/plain": [
       "<Figure size 432x288 with 1 Axes>"
      ]
     },
     "metadata": {
      "needs_background": "light"
     },
     "output_type": "display_data"
    }
   ],
   "source": [
    "means = list(means)\n",
    "max_depth = range(4,10) \n",
    "plt.plot(means, max_depth)\n",
    "plt.xlabel('max_depth')\n",
    "plt.ylabel('log_loss')\n",
    "plt.grid()\n",
    "plt.show()"
   ]
  },
  {
   "cell_type": "markdown",
   "id": "23137983",
   "metadata": {},
   "source": [
    "调参后选择max_depth = 6"
   ]
  },
  {
   "cell_type": "markdown",
   "id": "de56bd93",
   "metadata": {},
   "source": [
    "4、对构造每棵树的行列所取样比例调参"
   ]
  },
  {
   "cell_type": "code",
   "execution_count": 29,
   "id": "39d35452",
   "metadata": {},
   "outputs": [
    {
     "name": "stdout",
     "output_type": "stream",
     "text": [
      "程序运行时间：863.25分\n"
     ]
    }
   ],
   "source": [
    "start = time.time()\n",
    "params = {\n",
    "        'colsample_bytree':[0.5,0.8,1],\n",
    "        'colsample_bylevel':[0.5,0.8,1],\n",
    "        'subsample':[0.5,0.8,1]\n",
    "}\n",
    "Grid_xgb_test3 = GridSearchCV(XGBClassifier(learning_rate=0.1,max_depth=6,n_estimators=500,max_delta_step=2,min_child_weight=3,scale_pos_weight=1,eval_metric='auc'),param_grid=params,cv=5)\n",
    "Grid_xgb_test3.fit(x_train,y_train)\n",
    "end = time.time()\n",
    "print('程序运行时间：%.2f分' %((end - start)/60))"
   ]
  },
  {
   "cell_type": "code",
   "execution_count": 30,
   "id": "7e9a0efe",
   "metadata": {},
   "outputs": [
    {
     "name": "stdout",
     "output_type": "stream",
     "text": [
      "训练过程分数及参数： 0.9518731201431988 {'colsample_bylevel': 0.5, 'colsample_bytree': 0.5, 'subsample': 0.5}\n",
      "训练过程分数及参数： 0.9520092514498144 {'colsample_bylevel': 0.5, 'colsample_bytree': 0.5, 'subsample': 0.8}\n",
      "训练过程分数及参数： 0.9519642908137881 {'colsample_bylevel': 0.5, 'colsample_bytree': 0.5, 'subsample': 1}\n",
      "训练过程分数及参数： 0.9519205784298608 {'colsample_bylevel': 0.5, 'colsample_bytree': 0.8, 'subsample': 0.5}\n",
      "训练过程分数及参数： 0.9521903439305801 {'colsample_bylevel': 0.5, 'colsample_bytree': 0.8, 'subsample': 0.8}\n",
      "训练过程分数及参数： 0.9520979244229746 {'colsample_bylevel': 0.5, 'colsample_bytree': 0.8, 'subsample': 1}\n",
      "训练过程分数及参数： 0.9520542127253501 {'colsample_bylevel': 0.5, 'colsample_bytree': 1, 'subsample': 0.5}\n",
      "训练过程分数及参数： 0.9522552873938611 {'colsample_bylevel': 0.5, 'colsample_bytree': 1, 'subsample': 0.8}\n",
      "训练过程分数及参数： 0.9521703614230796 {'colsample_bylevel': 0.5, 'colsample_bytree': 1, 'subsample': 1}\n",
      "训练过程分数及参数： 0.9519592948574097 {'colsample_bylevel': 0.8, 'colsample_bytree': 0.5, 'subsample': 0.5}\n",
      "训练过程分数及参数： 0.9520579590102305 {'colsample_bylevel': 0.8, 'colsample_bytree': 0.5, 'subsample': 0.8}\n",
      "训练过程分数及参数： 0.9520654525626522 {'colsample_bylevel': 0.8, 'colsample_bytree': 0.5, 'subsample': 1}\n",
      "训练过程分数及参数： 0.9519692863178305 {'colsample_bylevel': 0.8, 'colsample_bytree': 0.8, 'subsample': 0.5}\n",
      "训练过程分数及参数： 0.952062955106989 {'colsample_bylevel': 0.8, 'colsample_bytree': 0.8, 'subsample': 0.8}\n",
      "训练过程分数及参数： 0.9520442215378905 {'colsample_bylevel': 0.8, 'colsample_bytree': 0.8, 'subsample': 1}\n",
      "训练过程分数及参数： 0.9520891817137821 {'colsample_bylevel': 0.8, 'colsample_bytree': 1, 'subsample': 0.5}\n",
      "训练过程分数及参数： 0.952151627869579 {'colsample_bylevel': 0.8, 'colsample_bytree': 1, 'subsample': 0.8}\n",
      "训练过程分数及参数： 0.9521678639518185 {'colsample_bylevel': 0.8, 'colsample_bytree': 1, 'subsample': 1}\n",
      "训练过程分数及参数： 0.9519418101643218 {'colsample_bylevel': 1, 'colsample_bytree': 0.5, 'subsample': 0.5}\n",
      "训练过程分数及参数： 0.9519930159212961 {'colsample_bylevel': 1, 'colsample_bytree': 0.5, 'subsample': 0.8}\n",
      "训练过程分数及参数： 0.9521054180299885 {'colsample_bylevel': 1, 'colsample_bytree': 0.5, 'subsample': 1}\n",
      "训练过程分数及参数： 0.9519867712838795 {'colsample_bylevel': 1, 'colsample_bytree': 0.8, 'subsample': 0.5}\n",
      "训练过程分数及参数： 0.9521254005998798 {'colsample_bylevel': 1, 'colsample_bytree': 0.8, 'subsample': 0.8}\n",
      "训练过程分数及参数： 0.952096675617154 {'colsample_bylevel': 1, 'colsample_bytree': 0.8, 'subsample': 1}\n",
      "训练过程分数及参数： 0.9519005961719251 {'colsample_bylevel': 1, 'colsample_bytree': 1, 'subsample': 0.5}\n",
      "训练过程分数及参数： 0.9520504658243569 {'colsample_bylevel': 1, 'colsample_bytree': 1, 'subsample': 0.8}\n",
      "训练过程分数及参数： 0.952162868011038 {'colsample_bylevel': 1, 'colsample_bytree': 1, 'subsample': 1}\n",
      "\n",
      "最好的分数以及参数： 0.9522552873938611 {'colsample_bylevel': 0.5, 'colsample_bytree': 1, 'subsample': 0.8}\n"
     ]
    }
   ],
   "source": [
    "means = Grid_xgb_test3.cv_results_['mean_test_score']\n",
    "params = Grid_xgb_test3.cv_results_['params']\n",
    "for i in range(len(means)):\n",
    "    print('训练过程分数及参数：',means[i],params[i] )\n",
    "print('\\n最好的分数以及参数：',Grid_xgb_test3.best_score_,Grid_xgb_test3.best_params_)"
   ]
  },
  {
   "cell_type": "markdown",
   "id": "2517a87a",
   "metadata": {},
   "source": [
    "5、对L1正则惩罚系数调参"
   ]
  },
  {
   "cell_type": "code",
   "execution_count": 25,
   "id": "4ada065d",
   "metadata": {},
   "outputs": [
    {
     "name": "stdout",
     "output_type": "stream",
     "text": [
      "程序运行时间：270.30分\n"
     ]
    }
   ],
   "source": [
    "start = time.time()\n",
    "params = {\n",
    "        'reg_alpha' :[0.1,1,2,3,4,5,6,7,8,9,10]\n",
    "}\n",
    "Grid_xgb_test4 = GridSearchCV(XGBClassifier(\n",
    "    learning_rate=0.1,\n",
    "    max_depth=6,\n",
    "    n_estimators=500,\n",
    "    eval_metric='auc',\n",
    "    colsample_bylevel=0.5,\n",
    "    colsample_bytree=1,\n",
    "    subsample=0.8,\n",
    "    max_delta_step=2,\n",
    "    min_child_weight=3,\n",
    "    scale_pos_weight=1,),param_grid=params,cv=5)\n",
    "Grid_xgb_test4.fit(x_train,y_train)\n",
    "end = time.time()\n",
    "print('程序运行时间：%.2f分' %((end - start)/60))"
   ]
  },
  {
   "cell_type": "code",
   "execution_count": 26,
   "id": "628c822d",
   "metadata": {},
   "outputs": [
    {
     "name": "stdout",
     "output_type": "stream",
     "text": [
      "训练过程分数及参数： 0.9521179070396592 {'reg_alpha': 0.1}\n",
      "训练过程分数及参数： 0.9520741949676879 {'reg_alpha': 1}\n",
      "训练过程分数及参数： 0.9521890952495417 {'reg_alpha': 2}\n",
      "训练过程分数及参数： 0.9520454700317554 {'reg_alpha': 3}\n",
      "训练过程分数及参数： nan {'reg_alpha': 4}\n",
      "训练过程分数及参数： 0.9521878461629608 {'reg_alpha': 5}\n",
      "训练过程分数及参数： 0.952182850612125 {'reg_alpha': 6}\n",
      "训练过程分数及参数： 0.9522028331040275 {'reg_alpha': 7}\n",
      "训练过程分数及参数： 0.9521703616414487 {'reg_alpha': 8}\n",
      "训练过程分数及参数： 0.9522527893064874 {'reg_alpha': 9}\n",
      "训练过程分数及参数： 0.952135391592367 {'reg_alpha': 10}\n",
      "\n",
      "最好的分数以及参数： 0.9522527893064874 {'reg_alpha': 9}\n"
     ]
    }
   ],
   "source": [
    "means = Grid_xgb_test4.cv_results_['mean_test_score']\n",
    "params = Grid_xgb_test4.cv_results_['params']\n",
    "for i in range(len(means)):\n",
    "    print('训练过程分数及参数：',means[i],params[i] )\n",
    "print('\\n最好的分数以及参数：',Grid_xgb_test4.best_score_,Grid_xgb_test4.best_params_)"
   ]
  },
  {
   "cell_type": "markdown",
   "id": "c940d48d",
   "metadata": {},
   "source": [
    "6、选择上面调整好的参数建立模型"
   ]
  },
  {
   "cell_type": "code",
   "execution_count": 98,
   "id": "77c7cdb0",
   "metadata": {
    "scrolled": false
   },
   "outputs": [
    {
     "data": {
      "text/plain": [
       "XGBClassifier(base_score=0.5, booster='gbtree', colsample_bylevel=0.5,\n",
       "              colsample_bynode=1, colsample_bytree=1, enable_categorical=False,\n",
       "              eval_metric='auc', gamma=0, gpu_id=-1, importance_type=None,\n",
       "              interaction_constraints='', learning_rate=0.1, max_delta_step=2,\n",
       "              max_depth=6, min_child_weight=3, missing=nan,\n",
       "              monotone_constraints='()', n_estimators=500, n_jobs=8,\n",
       "              num_parallel_tree=1, objective='reg:logistic', predictor='auto',\n",
       "              random_state=0, reg_alpha=9, reg_lambda=1, scale_pos_weight=1,\n",
       "              subsample=0.8, tree_method='exact', validate_parameters=1,\n",
       "              verbosity=None)"
      ]
     },
     "execution_count": 98,
     "metadata": {},
     "output_type": "execute_result"
    }
   ],
   "source": [
    "endxgb = XGBClassifier(\n",
    "        reg_alpha = 9,\n",
    "        booster='gbtree',\n",
    "        objective='reg:logistic',\n",
    "        scale_pos_weight = 1,\n",
    "        n_estimators = 500,\n",
    "        learning_rate = 0.1,\n",
    "        max_depth = 6,\n",
    "        colsample_bylevel=0.5,\n",
    "        colsample_bytree=1,\n",
    "        subsample=0.8,\n",
    "        eval_metric='auc',\n",
    "        max_delta_step = 2,\n",
    "        min_child_weight=3\n",
    ")\n",
    "endxgb.fit(x_train,y_train)"
   ]
  },
  {
   "cell_type": "code",
   "execution_count": 99,
   "id": "7d2fdac4",
   "metadata": {},
   "outputs": [],
   "source": [
    "# import joblib\n",
    "# joblib.dump(filename='endxgb_7.31',value=endxgb)\n",
    "# model1 = joblib.load(filename=\"endxgb_7.31\")"
   ]
  },
  {
   "cell_type": "code",
   "execution_count": 100,
   "id": "f77712f5",
   "metadata": {},
   "outputs": [
    {
     "name": "stdout",
     "output_type": "stream",
     "text": [
      "train_auc:  0.933233041115912\n",
      "test_auc:  0.8644810720583553\n"
     ]
    }
   ],
   "source": [
    "# #### 预测以及结果评价\n",
    "y_train_hat=endxgb.predict_proba(x_train)\n",
    "train_auc = roc_auc_score(y_train,y_train_hat[:,1])\n",
    "y_test_hat=endxgb.predict_proba(x_test)\n",
    "test_auc = roc_auc_score(y_test,y_test_hat[:,1])\n",
    "print('train_auc: ', train_auc)\n",
    "print('test_auc: ', test_auc)"
   ]
  },
  {
   "cell_type": "code",
   "execution_count": 101,
   "id": "239098ca",
   "metadata": {},
   "outputs": [
    {
     "data": {
      "image/png": "[encoded data removed]",
      "text/plain": [
       "<Figure size 432x288 with 1 Axes>"
      ]
     },
     "metadata": {
      "needs_background": "light"
     },
     "output_type": "display_data"
    }
   ],
   "source": [
    "fpr, tpr, th = roc_curve(y_test, y_test_hat[:,1])\n",
    "plt.plot(fpr, tpr)\n",
    "plt.xlabel('fpr')\n",
    "plt.ylabel('tpr')\n",
    "plt.grid()\n",
    "plt.show()"
   ]
  },
  {
   "cell_type": "code",
   "execution_count": 95,
   "id": "c4c334a8",
   "metadata": {},
   "outputs": [],
   "source": [
    "# Y_test_pred = endxgb.predict_proba(X_train)\n",
    "# dftest1 = dftest[['User_id','Coupon_id','Date_received']].copy()\n",
    "# dftest1['label'] = Y_test_pred[:,1]\n",
    "# dftest1.to_csv('O2O消费券-endxgb2.csv', index=False, header=False)\n",
    "# dftest1.head()"
   ]
  },
  {
   "cell_type": "markdown",
   "id": "8ef59954",
   "metadata": {},
   "source": [
    "# Lightgbm"
   ]
  },
  {
   "cell_type": "code",
   "execution_count": 50,
   "id": "33e9976d",
   "metadata": {},
   "outputs": [
    {
     "data": {
      "text/plain": [
       "LGBMClassifier(metric='auc', num_iterations=500)"
      ]
     },
     "execution_count": 50,
     "metadata": {},
     "output_type": "execute_result"
    }
   ],
   "source": [
    "lgb = LGBMClassifier(\n",
    "        num_iterations=500,\n",
    "        learning_rate=0.1,\n",
    "        metric='auc',\n",
    ")\n",
    "lgb.fit(x_train,y_train)"
   ]
  },
  {
   "cell_type": "code",
   "execution_count": 51,
   "id": "e3766b1a",
   "metadata": {},
   "outputs": [
    {
     "name": "stdout",
     "output_type": "stream",
     "text": [
      "train_auc:  0.9394320798790774\n",
      "test_auc:  0.8642633340519005\n"
     ]
    }
   ],
   "source": [
    "# #### 预测以及结果评价\n",
    "y_train_hat=lgb.predict_proba(x_train)\n",
    "train_auc = roc_auc_score(y_train,y_train_hat[:,1])\n",
    "y_test_hat=lgb.predict_proba(x_test)\n",
    "test_auc = roc_auc_score(y_test,y_test_hat[:,1])\n",
    "print('train_auc: ', train_auc)\n",
    "print('test_auc: ', test_auc)"
   ]
  },
  {
   "cell_type": "markdown",
   "id": "97635489",
   "metadata": {},
   "source": [
    "# 模型混合(投票分类)"
   ]
  },
  {
   "cell_type": "code",
   "execution_count": 120,
   "id": "03522e5c",
   "metadata": {},
   "outputs": [
    {
     "data": {
      "text/plain": [
       "VotingClassifier(estimators=[('XGB1',\n",
       "                              XGBClassifier(base_score=None, booster='gbtree',\n",
       "                                            colsample_bylevel=0.5,\n",
       "                                            colsample_bynode=None,\n",
       "                                            colsample_bytree=1,\n",
       "                                            enable_categorical=False,\n",
       "                                            eval_metric='auc', gamma=None,\n",
       "                                            gpu_id=None, importance_type=None,\n",
       "                                            interaction_constraints=None,\n",
       "                                            learning_rate=0.1, max_delta_step=2,\n",
       "                                            max_depth=6, min_child_weight=3,\n",
       "                                            missing=nan,\n",
       "                                            monotone_...\n",
       "                                            min_child_weight=None, missing=nan,\n",
       "                                            monotone_constraints=None,\n",
       "                                            n_estimators=390, n_jobs=None,\n",
       "                                            num_parallel_tree=None,\n",
       "                                            objective='reg:logistic',\n",
       "                                            predictor=None, random_state=None,\n",
       "                                            reg_alpha=7, reg_lambda=1,\n",
       "                                            scale_pos_weight=3, subsample=1,\n",
       "                                            tree_method=None,\n",
       "                                            validate_parameters=None,\n",
       "                                            verbosity=None)),\n",
       "                             ('LGB',\n",
       "                              LGBMClassifier(metric='auc',\n",
       "                                             num_iterations=500))],\n",
       "                 voting='soft')"
      ]
     },
     "execution_count": 120,
     "metadata": {},
     "output_type": "execute_result"
    }
   ],
   "source": [
    "clf1 = XGBClassifier(\n",
    "        reg_alpha = 9,\n",
    "        booster='gbtree',\n",
    "        objective='reg:logistic',\n",
    "        scale_pos_weight = 1,\n",
    "        n_estimators = 500,\n",
    "        learning_rate = 0.1,\n",
    "        max_depth = 6,\n",
    "        colsample_bylevel=0.5,\n",
    "        colsample_bytree=1,\n",
    "        subsample=0.8,\n",
    "        eval_metric='auc',\n",
    "        max_delta_step = 2,\n",
    "        min_child_weight=3\n",
    ")\n",
    "#用下采样数据调整的模型\n",
    "clf2 = XGBClassifier(\n",
    "        reg_lambda = 1,\n",
    "        reg_alpha = 7,\n",
    "        booster='gbtree',\n",
    "        objective='reg:logistic',\n",
    "        scale_pos_weight = 3,\n",
    "        n_estimators = 390,\n",
    "        learning_rate = 0.1,\n",
    "        max_depth = 6,\n",
    "        colsample_bylevel = 0.8,\n",
    "        colsample_bytree = 0.5,\n",
    "        subsample = 1,\n",
    "        eval_metric='auc'\n",
    ")\n",
    "clf3 = LGBMClassifier(\n",
    "        num_iterations=500,\n",
    "        learning_rate=0.1,\n",
    "        metric='auc',\n",
    ")\n",
    "eclf = VotingClassifier(estimators=[\n",
    "             ('XGB1', clf1), ('XGB2', clf2), ('LGB',clf3)], voting='soft')\n",
    "eclf.fit(x_train,y_train)"
   ]
  },
  {
   "cell_type": "code",
   "execution_count": 121,
   "id": "8cf54c8e",
   "metadata": {},
   "outputs": [
    {
     "name": "stdout",
     "output_type": "stream",
     "text": [
      "train_auc:  0.9371882915644366\n",
      "test_auc:  0.8677606796595995\n"
     ]
    }
   ],
   "source": [
    "# #### 预测以及结果评价\n",
    "y_train_hat=eclf.predict_proba(x_train)\n",
    "train_auc = roc_auc_score(y_train,y_train_hat[:,1])\n",
    "y_test_hat=eclf.predict_proba(x_test)\n",
    "test_auc = roc_auc_score(y_test,y_test_hat[:,1])\n",
    "print('train_auc: ', train_auc)\n",
    "print('test_auc: ', test_auc)"
   ]
  },
  {
   "cell_type": "code",
   "execution_count": 122,
   "id": "75982053",
   "metadata": {},
   "outputs": [],
   "source": [
    "# Y_test_pred = eclf.predict_proba(X_train)\n",
    "# dftest1 = dftest[['User_id','Coupon_id','Date_received']].copy()\n",
    "# dftest1['label'] = Y_test_pred[:,1]\n",
    "# dftest1.to_csv('O2O消费券-eclf.csv', index=False, header=False)\n",
    "# dftest1.head()"
   ]
  },
  {
   "cell_type": "code",
   "execution_count": 123,
   "id": "4e11d1fd",
   "metadata": {},
   "outputs": [],
   "source": [
    "# import joblib\n",
    "# joblib.dump(filename='eclf_0.7335',value=eclf)\n",
    "# model1 = joblib.load(filename=\"endxgb\")"
   ]
  },
  {
   "cell_type": "markdown",
   "id": "363a5608",
   "metadata": {},
   "source": [
    "调整各个模型权重"
   ]
  },
  {
   "cell_type": "code",
   "execution_count": 125,
   "id": "56291635",
   "metadata": {},
   "outputs": [
    {
     "name": "stdout",
     "output_type": "stream",
     "text": [
      "程序运行时间：193.99分\n"
     ]
    }
   ],
   "source": [
    "start = time.time()\n",
    "params = {'weights':[\n",
    "    [1,1,1],\n",
    "    [1,2,1],\n",
    "    [2,1,1],\n",
    "    [1,1,2],\n",
    "    [2,2,1],\n",
    "    [2,1,2],\n",
    "    [1,2,2]\n",
    "]}\n",
    "Grid_eclf = GridSearchCV(eclf,param_grid=params,cv=5)\n",
    "Grid_eclf.fit(x_train,y_train)\n",
    "end = time.time()\n",
    "print('程序运行时间：%.2f分' %((end - start)/60))"
   ]
  },
  {
   "cell_type": "code",
   "execution_count": 126,
   "id": "3e73f1ef",
   "metadata": {},
   "outputs": [
    {
     "name": "stdout",
     "output_type": "stream",
     "text": [
      "训练过程分数及参数： 0.9513648122742513 {'weights': [1, 1, 1]}\n",
      "训练过程分数及参数： 0.9497374779723435 {'weights': [1, 2, 1]}\n",
      "训练过程分数及参数： 0.9518618796975827 {'weights': [2, 1, 1]}\n",
      "训练过程分数及参数： 0.9516395731698284 {'weights': [1, 1, 2]}\n",
      "训练过程分数及参数： 0.9509963829248681 {'weights': [2, 2, 1]}\n",
      "训练过程分数及参数： 0.9518194166809966 {'weights': [2, 1, 2]}\n",
      "训练过程分数及参数： 0.9508340239040164 {'weights': [1, 2, 2]}\n",
      "\n",
      "最好的分数以及参数： 0.9518618796975827 {'weights': [2, 1, 1]}\n"
     ]
    }
   ],
   "source": [
    "means = Grid_eclf.cv_results_['mean_test_score']\n",
    "params = Grid_eclf.cv_results_['params']\n",
    "for i in range(len(means)):\n",
    "    print('训练过程分数及参数：',means[i],params[i] )\n",
    "print('\\n最好的分数以及参数：',Grid_eclf.best_score_,Grid_eclf.best_params_)"
   ]
  },
  {
   "cell_type": "markdown",
   "id": "42155e78",
   "metadata": {},
   "source": [
    "选择最优参数"
   ]
  },
  {
   "cell_type": "code",
   "execution_count": 127,
   "id": "ea2857ed",
   "metadata": {},
   "outputs": [
    {
     "data": {
      "text/plain": [
       "VotingClassifier(estimators=[('XGB1',\n",
       "                              XGBClassifier(base_score=None, booster='gbtree',\n",
       "                                            colsample_bylevel=0.5,\n",
       "                                            colsample_bynode=None,\n",
       "                                            colsample_bytree=1,\n",
       "                                            enable_categorical=False,\n",
       "                                            eval_metric='auc', gamma=None,\n",
       "                                            gpu_id=None, importance_type=None,\n",
       "                                            interaction_constraints=None,\n",
       "                                            learning_rate=0.1, max_delta_step=2,\n",
       "                                            max_depth=6, min_child_weight=3,\n",
       "                                            missing=nan,\n",
       "                                            monotone_...\n",
       "                                            min_child_weight=None, missing=nan,\n",
       "                                            monotone_constraints=None,\n",
       "                                            n_estimators=390, n_jobs=None,\n",
       "                                            num_parallel_tree=None,\n",
       "                                            objective='reg:logistic',\n",
       "                                            predictor=None, random_state=None,\n",
       "                                            reg_alpha=7, reg_lambda=1,\n",
       "                                            scale_pos_weight=3, subsample=1,\n",
       "                                            tree_method=None,\n",
       "                                            validate_parameters=None,\n",
       "                                            verbosity=None)),\n",
       "                             ('LGB',\n",
       "                              LGBMClassifier(metric='auc',\n",
       "                                             num_iterations=500))],\n",
       "                 voting='soft', weights=[2, 1, 1])"
      ]
     },
     "execution_count": 127,
     "metadata": {},
     "output_type": "execute_result"
    }
   ],
   "source": [
    "eclf_end = VotingClassifier(estimators=[\n",
    "             ('XGB1', clf1), ('XGB2', clf2), ('LGB',clf3)], voting='soft',weights=[2,1,1])\n",
    "eclf_end.fit(x_train,y_train)"
   ]
  },
  {
   "cell_type": "code",
   "execution_count": 134,
   "id": "f19dd1c3",
   "metadata": {},
   "outputs": [],
   "source": [
    "# import joblib\n",
    "# joblib.dump(filename='eclf_end_0.7343',value=eclf_end)\n",
    "# model = joblib.load(filename=\"eclf_end_0.7343\")"
   ]
  },
  {
   "cell_type": "code",
   "execution_count": 129,
   "id": "8252c46c",
   "metadata": {},
   "outputs": [
    {
     "name": "stdout",
     "output_type": "stream",
     "text": [
      "train_auc:  0.9366420982041541\n",
      "test_auc:  0.8673176769209964\n"
     ]
    }
   ],
   "source": [
    "# #### 预测以及结果评价\n",
    "y_train_hat=eclf_end.predict_proba(x_train)\n",
    "train_auc = roc_auc_score(y_train,y_train_hat[:,1])\n",
    "y_test_hat=eclf_end.predict_proba(x_test)\n",
    "test_auc = roc_auc_score(y_test,y_test_hat[:,1])\n",
    "print('train_auc: ', train_auc)\n",
    "print('test_auc: ', test_auc)"
   ]
  },
  {
   "cell_type": "code",
   "execution_count": 132,
   "id": "e7e7c74c",
   "metadata": {},
   "outputs": [],
   "source": [
    "# Y_test_pred = eclf_end.predict_proba(X_train)\n",
    "# dftest1 = dftest[['User_id','Coupon_id','Date_received']].copy()\n",
    "# dftest1['label'] = Y_test_pred[:,1]\n",
    "# dftest1.to_csv('O2O消费券-eclf_end.csv', index=False, header=False)\n",
    "# dftest1.head()"
   ]
  },
  {
   "cell_type": "code",
   "execution_count": null,
   "id": "5df0af76",
   "metadata": {},
   "outputs": [],
   "source": []
  }
 ],
 "metadata": {
  "kernelspec": {
   "display_name": "Python 3 (ipykernel)",
   "language": "python",
   "name": "python3"
  },
  "language_info": {
   "codemirror_mode": {
    "name": "ipython",
    "version": 3
   },
   "file_extension": ".py",
   "mimetype": "text/x-python",
   "name": "python",
   "nbconvert_exporter": "python",
   "pygments_lexer": "ipython3",
   "version": "3.9.13"
  }
 },
 "nbformat": 4,
 "nbformat_minor": 5
}
